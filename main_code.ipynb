{
 "cells": [
  {
   "cell_type": "code",
   "execution_count": 4,
   "id": "9fa996d1-5c3a-4156-aced-a7f38a687bc6",
   "metadata": {},
   "outputs": [
    {
     "name": "stdout",
     "output_type": "stream",
     "text": [
      "Collecting llama-cpp-python\n",
      "  Downloading llama_cpp_python-0.3.9.tar.gz (67.9 MB)\n",
      "\u001b[2K     \u001b[90m━━━━━━━━━━━━━━━━━━━━━━━━━━━━━━━━━━━━━━━━\u001b[0m \u001b[32m67.9/67.9 MB\u001b[0m \u001b[31m77.1 MB/s\u001b[0m eta \u001b[36m0:00:00\u001b[0m00:01\u001b[0m00:01\u001b[0m\n",
      "\u001b[?25h  Installing build dependencies ... \u001b[?25ldone\n",
      "\u001b[?25h  Getting requirements to build wheel ... \u001b[?25ldone\n",
      "\u001b[?25h  Preparing metadata (pyproject.toml) ... \u001b[?25ldone\n",
      "\u001b[?25hRequirement already satisfied: typing-extensions>=4.5.0 in /venv/main/lib/python3.12/site-packages (from llama-cpp-python) (4.13.2)\n",
      "Requirement already satisfied: numpy>=1.20.0 in /venv/main/lib/python3.12/site-packages (from llama-cpp-python) (2.1.2)\n",
      "Collecting diskcache>=5.6.1 (from llama-cpp-python)\n",
      "  Downloading diskcache-5.6.3-py3-none-any.whl.metadata (20 kB)\n",
      "Requirement already satisfied: jinja2>=2.11.3 in /venv/main/lib/python3.12/site-packages (from llama-cpp-python) (3.1.4)\n",
      "Requirement already satisfied: MarkupSafe>=2.0 in /venv/main/lib/python3.12/site-packages (from jinja2>=2.11.3->llama-cpp-python) (2.1.5)\n",
      "Downloading diskcache-5.6.3-py3-none-any.whl (45 kB)\n",
      "\u001b[2K   \u001b[90m━━━━━━━━━━━━━━━━━━━━━━━━━━━━━━━━━━━━━━━━\u001b[0m \u001b[32m45.5/45.5 kB\u001b[0m \u001b[31m15.0 MB/s\u001b[0m eta \u001b[36m0:00:00\u001b[0m\n",
      "\u001b[?25hBuilding wheels for collected packages: llama-cpp-python\n",
      "  Building wheel for llama-cpp-python (pyproject.toml) ... \u001b[?25ldone\n",
      "\u001b[?25h  Created wheel for llama-cpp-python: filename=llama_cpp_python-0.3.9-cp312-cp312-linux_x86_64.whl size=4136596 sha256=3ab159a74e1e63c580e2847e8748cb90c25f2357491bea519b58473f6eca4c66\n",
      "  Stored in directory: /root/.cache/pip/wheels/e9/22/42/98dca29f6195951fae2aa548582827a45306350e282ab30617\n",
      "Successfully built llama-cpp-python\n",
      "Installing collected packages: diskcache, llama-cpp-python\n",
      "Successfully installed diskcache-5.6.3 llama-cpp-python-0.3.9\n"
     ]
    }
   ],
   "source": [
    "!pip install llama-cpp-python"
   ]
  },
  {
   "cell_type": "code",
   "execution_count": 10,
   "id": "92a9140d-94dc-41db-a91b-a734edfe4f03",
   "metadata": {},
   "outputs": [
    {
     "name": "stdout",
     "output_type": "stream",
     "text": [
      "--2025-06-16 09:40:01--  https://huggingface.co/TheBloke/Mistral-7B-Instruct-v0.1-GGUF/resolve/main/mistral-7b-instruct-v0.1.Q4_K_M.gguf\n",
      "Resolving huggingface.co (huggingface.co)... "
     ]
    },
    {
     "name": "stderr",
     "output_type": "stream",
     "text": [
      "[codecarbon INFO @ 09:40:02] Energy consumed for RAM : 0.000167 kWh. RAM Power : 20.0 W\n",
      "[codecarbon INFO @ 09:40:02] Delta energy consumed for CPU with cpu_load : 0.000032 kWh, power : 8.0 W\n",
      "[codecarbon INFO @ 09:40:02] Energy consumed for All CPU : 0.000067 kWh\n",
      "[codecarbon INFO @ 09:40:02] Energy consumed for all GPUs : 0.000182 kWh. Total GPU Power : 21.589006587030767 W\n",
      "[codecarbon INFO @ 09:40:02] 0.000415 kWh of electricity used since the beginning.\n"
     ]
    },
    {
     "name": "stdout",
     "output_type": "stream",
     "text": [
      "13.35.202.34, 13.35.202.40, 13.35.202.97, ...\n",
      "Connecting to huggingface.co (huggingface.co)|13.35.202.34|:443... connected.\n",
      "HTTP request sent, awaiting response... 302 Found\n",
      "Location: https://cdn-lfs.hf.co/repos/46/12/46124cd8d4788fd8e0879883abfc473f247664b987955cc98a08658f7df6b826/14466f9d658bf4a79f96c3f3f22759707c291cac4e62fea625e80c7d32169991?response-content-disposition=inline%3B+filename*%3DUTF-8%27%27mistral-7b-instruct-v0.1.Q4_K_M.gguf%3B+filename%3D%22mistral-7b-instruct-v0.1.Q4_K_M.gguf%22%3B&Expires=1750070402&Policy=eyJTdGF0ZW1lbnQiOlt7IkNvbmRpdGlvbiI6eyJEYXRlTGVzc1RoYW4iOnsiQVdTOkVwb2NoVGltZSI6MTc1MDA3MDQwMn19LCJSZXNvdXJjZSI6Imh0dHBzOi8vY2RuLWxmcy5oZi5jby9yZXBvcy80Ni8xMi80NjEyNGNkOGQ0Nzg4ZmQ4ZTA4Nzk4ODNhYmZjNDczZjI0NzY2NGI5ODc5NTVjYzk4YTA4NjU4ZjdkZjZiODI2LzE0NDY2ZjlkNjU4YmY0YTc5Zjk2YzNmM2YyMjc1OTcwN2MyOTFjYWM0ZTYyZmVhNjI1ZTgwYzdkMzIxNjk5OTE%7EcmVzcG9uc2UtY29udGVudC1kaXNwb3NpdGlvbj0qIn1dfQ__&Signature=SYI6QVBkWMNDhJRhX5p4s1SaUzLF9346RdbJAMgPHLmFkGiOlBmcMHGka1gzaOWNqFE9AXaeCUGUtgxdByA2Pg1AHnefUhue34SYhqkXs3xbioYtD3o8ZGWfpByQLGnSrRxTml2pBMqnBdQghwB4l2oJMpXvjxedh8qYvulQM4LfgSxGmESDRsIxaLXVb6xZAXJUb%7E1ISQg7SBdH4J7sDk9uT4TNZpd%7Em6SQOp3AjtU7W1MG4V3V196NO3-EQr6JnXCtpBmZqj-oT1HS09Xg%7EGlZSiBckdN8OIBztYUwnShu0u-qzbyB33FMEzOYGdN8yRdQhjrL7oBifbrWrvIKSA__&Key-Pair-Id=K3RPWS32NSSJCE [following]\n",
      "--2025-06-16 09:40:03--  https://cdn-lfs.hf.co/repos/46/12/46124cd8d4788fd8e0879883abfc473f247664b987955cc98a08658f7df6b826/14466f9d658bf4a79f96c3f3f22759707c291cac4e62fea625e80c7d32169991?response-content-disposition=inline%3B+filename*%3DUTF-8%27%27mistral-7b-instruct-v0.1.Q4_K_M.gguf%3B+filename%3D%22mistral-7b-instruct-v0.1.Q4_K_M.gguf%22%3B&Expires=1750070402&Policy=eyJTdGF0ZW1lbnQiOlt7IkNvbmRpdGlvbiI6eyJEYXRlTGVzc1RoYW4iOnsiQVdTOkVwb2NoVGltZSI6MTc1MDA3MDQwMn19LCJSZXNvdXJjZSI6Imh0dHBzOi8vY2RuLWxmcy5oZi5jby9yZXBvcy80Ni8xMi80NjEyNGNkOGQ0Nzg4ZmQ4ZTA4Nzk4ODNhYmZjNDczZjI0NzY2NGI5ODc5NTVjYzk4YTA4NjU4ZjdkZjZiODI2LzE0NDY2ZjlkNjU4YmY0YTc5Zjk2YzNmM2YyMjc1OTcwN2MyOTFjYWM0ZTYyZmVhNjI1ZTgwYzdkMzIxNjk5OTE%7EcmVzcG9uc2UtY29udGVudC1kaXNwb3NpdGlvbj0qIn1dfQ__&Signature=SYI6QVBkWMNDhJRhX5p4s1SaUzLF9346RdbJAMgPHLmFkGiOlBmcMHGka1gzaOWNqFE9AXaeCUGUtgxdByA2Pg1AHnefUhue34SYhqkXs3xbioYtD3o8ZGWfpByQLGnSrRxTml2pBMqnBdQghwB4l2oJMpXvjxedh8qYvulQM4LfgSxGmESDRsIxaLXVb6xZAXJUb%7E1ISQg7SBdH4J7sDk9uT4TNZpd%7Em6SQOp3AjtU7W1MG4V3V196NO3-EQr6JnXCtpBmZqj-oT1HS09Xg%7EGlZSiBckdN8OIBztYUwnShu0u-qzbyB33FMEzOYGdN8yRdQhjrL7oBifbrWrvIKSA__&Key-Pair-Id=K3RPWS32NSSJCE\n",
      "Resolving cdn-lfs.hf.co (cdn-lfs.hf.co)... "
     ]
    },
    {
     "name": "stderr",
     "output_type": "stream",
     "text": [
      "[codecarbon INFO @ 09:40:17] Energy consumed for RAM : 0.000247 kWh. RAM Power : 20.0 W\n",
      "[codecarbon INFO @ 09:40:17] Delta energy consumed for CPU with cpu_load : 0.000032 kWh, power : 8.0 W\n",
      "[codecarbon INFO @ 09:40:17] Energy consumed for All CPU : 0.000099 kWh\n",
      "[codecarbon INFO @ 09:40:17] Energy consumed for all GPUs : 0.000271 kWh. Total GPU Power : 21.44791636109594 W\n",
      "[codecarbon INFO @ 09:40:17] 0.000617 kWh of electricity used since the beginning.\n"
     ]
    },
    {
     "name": "stdout",
     "output_type": "stream",
     "text": [
      "3.162.58.53, 3.162.58.18, 3.162.58.81, ...\n",
      "Connecting to cdn-lfs.hf.co (cdn-lfs.hf.co)|3.162.58.53|:443... connected.\n",
      "HTTP request sent, awaiting response... 200 OK\n",
      "Length: 4368438944 (4.1G) [binary/octet-stream]\n",
      "Saving to: ‘/root/models/mistral/mistral-7b-instruct-v0.1.Q4_K_M.gguf’\n",
      "\n",
      "_M.gguf               6%[>                   ] 271.97M  22.9MB/s    eta 2m 53s "
     ]
    },
    {
     "name": "stderr",
     "output_type": "stream",
     "text": [
      "[codecarbon INFO @ 09:40:32] Energy consumed for RAM : 0.000328 kWh. RAM Power : 20.0 W\n"
     ]
    },
    {
     "name": "stdout",
     "output_type": "stream",
     "text": [
      ".gguf                 6%[>                   ] 281.57M  23.0MB/s    eta 2m 53s "
     ]
    },
    {
     "name": "stderr",
     "output_type": "stream",
     "text": [
      "[codecarbon INFO @ 09:40:32] Delta energy consumed for CPU with cpu_load : 0.000032 kWh, power : 8.0 W\n",
      "[codecarbon INFO @ 09:40:32] Energy consumed for All CPU : 0.000131 kWh\n",
      "[codecarbon INFO @ 09:40:32] Energy consumed for all GPUs : 0.000361 kWh. Total GPU Power : 21.56897251409105 W\n",
      "[codecarbon INFO @ 09:40:32] 0.000820 kWh of electricity used since the beginning.\n"
     ]
    },
    {
     "name": "stdout",
     "output_type": "stream",
     "text": [
      "Q4_K_M.gguf          14%[=>                  ] 601.55M  23.9MB/s    eta 2m 41s "
     ]
    },
    {
     "name": "stderr",
     "output_type": "stream",
     "text": [
      "[codecarbon INFO @ 09:40:47] Energy consumed for RAM : 0.000408 kWh. RAM Power : 20.0 W\n"
     ]
    },
    {
     "name": "stdout",
     "output_type": "stream",
     "text": [
      "K_M.gguf             14%[=>                  ] 617.08M  24.7MB/s    eta 2m 39s "
     ]
    },
    {
     "name": "stderr",
     "output_type": "stream",
     "text": [
      "[codecarbon INFO @ 09:40:47] Delta energy consumed for CPU with cpu_load : 0.000032 kWh, power : 8.0 W\n",
      "[codecarbon INFO @ 09:40:47] Energy consumed for All CPU : 0.000163 kWh\n",
      "[codecarbon INFO @ 09:40:47] Energy consumed for all GPUs : 0.000451 kWh. Total GPU Power : 21.59080000533043 W\n",
      "[codecarbon INFO @ 09:40:47] 0.001022 kWh of electricity used since the beginning.\n"
     ]
    },
    {
     "name": "stdout",
     "output_type": "stream",
     "text": [
      ".Q4_K_M.gguf         23%[===>                ] 980.76M  25.2MB/s    eta 2m 17s "
     ]
    },
    {
     "name": "stderr",
     "output_type": "stream",
     "text": [
      "[codecarbon INFO @ 09:41:02] Energy consumed for RAM : 0.000489 kWh. RAM Power : 20.0 W\n"
     ]
    },
    {
     "name": "stdout",
     "output_type": "stream",
     "text": [
      "4_K_M.gguf           23%[===>                ] 991.09M  25.2MB/s    eta 2m 16s "
     ]
    },
    {
     "name": "stderr",
     "output_type": "stream",
     "text": [
      "[codecarbon INFO @ 09:41:02] Delta energy consumed for CPU with cpu_load : 0.000032 kWh, power : 8.0 W\n",
      "[codecarbon INFO @ 09:41:02] Energy consumed for All CPU : 0.000195 kWh\n",
      "[codecarbon INFO @ 09:41:02] Energy consumed for all GPUs : 0.000542 kWh. Total GPU Power : 21.76359404245609 W\n",
      "[codecarbon INFO @ 09:41:02] 0.001226 kWh of electricity used since the beginning.\n"
     ]
    },
    {
     "name": "stdout",
     "output_type": "stream",
     "text": [
      "0.1.Q4_K_M.gguf      32%[=====>              ]   1.31G  24.4MB/s    eta 2m 1s  "
     ]
    },
    {
     "name": "stderr",
     "output_type": "stream",
     "text": [
      "[codecarbon INFO @ 09:41:17] Energy consumed for RAM : 0.000569 kWh. RAM Power : 20.0 W\n"
     ]
    },
    {
     "name": "stdout",
     "output_type": "stream",
     "text": [
      "1.Q4_K_M.gguf        32%[=====>              ]   1.32G  24.7MB/s    eta 2m 1s  "
     ]
    },
    {
     "name": "stderr",
     "output_type": "stream",
     "text": [
      "[codecarbon INFO @ 09:41:17] Delta energy consumed for CPU with cpu_load : 0.000032 kWh, power : 8.0 W\n",
      "[codecarbon INFO @ 09:41:17] Energy consumed for All CPU : 0.000228 kWh\n",
      "[codecarbon INFO @ 09:41:17] Energy consumed for all GPUs : 0.000632 kWh. Total GPU Power : 21.611118096770724 W\n",
      "[codecarbon INFO @ 09:41:17] 0.001429 kWh of electricity used since the beginning.\n"
     ]
    },
    {
     "name": "stdout",
     "output_type": "stream",
     "text": [
      "ct-v0.1.Q4_K_M.gguf  39%[======>             ]   1.62G  23.6MB/s    eta 1m 48s "
     ]
    },
    {
     "name": "stderr",
     "output_type": "stream",
     "text": [
      "[codecarbon INFO @ 09:41:32] Energy consumed for RAM : 0.000650 kWh. RAM Power : 20.0 W\n"
     ]
    },
    {
     "name": "stdout",
     "output_type": "stream",
     "text": [
      "v0.1.Q4_K_M.gguf     40%[=======>            ]   1.64G  23.8MB/s    eta 1m 48s "
     ]
    },
    {
     "name": "stderr",
     "output_type": "stream",
     "text": [
      "[codecarbon INFO @ 09:41:32] Delta energy consumed for CPU with cpu_load : 0.000032 kWh, power : 8.0 W\n",
      "[codecarbon INFO @ 09:41:32] Energy consumed for All CPU : 0.000260 kWh\n",
      "[codecarbon INFO @ 09:41:32] Energy consumed for all GPUs : 0.000721 kWh. Total GPU Power : 21.506308196946314 W\n",
      "[codecarbon INFO @ 09:41:32] 0.001631 kWh of electricity used since the beginning.\n",
      "[codecarbon INFO @ 09:41:32] 0.006408 g.CO2eq/s mean an estimation of 202.06829434481335 kg.CO2eq/year\n"
     ]
    },
    {
     "name": "stdout",
     "output_type": "stream",
     "text": [
      "uct-v0.1.Q4_K_M.ggu  48%[========>           ]   1.97G  22.6MB/s    eta 93s    "
     ]
    },
    {
     "name": "stderr",
     "output_type": "stream",
     "text": [
      "[codecarbon INFO @ 09:41:47] Energy consumed for RAM : 0.000730 kWh. RAM Power : 20.0 W\n"
     ]
    },
    {
     "name": "stdout",
     "output_type": "stream",
     "text": [
      "t-v0.1.Q4_K_M.gguf   48%[========>           ]   1.97G  22.7MB/s    eta 93s    "
     ]
    },
    {
     "name": "stderr",
     "output_type": "stream",
     "text": [
      "[codecarbon INFO @ 09:41:47] Delta energy consumed for CPU with cpu_load : 0.000032 kWh, power : 8.0 W\n",
      "[codecarbon INFO @ 09:41:47] Energy consumed for All CPU : 0.000292 kWh\n",
      "[codecarbon INFO @ 09:41:47] Energy consumed for all GPUs : 0.000811 kWh. Total GPU Power : 21.523576845307208 W\n",
      "[codecarbon INFO @ 09:41:47] 0.001833 kWh of electricity used since the beginning.\n"
     ]
    },
    {
     "name": "stdout",
     "output_type": "stream",
     "text": [
      "struct-v0.1.Q4_K_M.  56%[==========>         ]   2.31G  24.2MB/s    eta 79s    "
     ]
    },
    {
     "name": "stderr",
     "output_type": "stream",
     "text": [
      "[codecarbon INFO @ 09:42:02] Energy consumed for RAM : 0.000811 kWh. RAM Power : 20.0 W\n"
     ]
    },
    {
     "name": "stdout",
     "output_type": "stream",
     "text": [
      "uct-v0.1.Q4_K_M.ggu  57%[==========>         ]   2.32G  24.2MB/s    eta 78s    "
     ]
    },
    {
     "name": "stderr",
     "output_type": "stream",
     "text": [
      "[codecarbon INFO @ 09:42:02] Delta energy consumed for CPU with cpu_load : 0.000032 kWh, power : 8.0 W\n",
      "[codecarbon INFO @ 09:42:02] Energy consumed for All CPU : 0.000324 kWh\n",
      "[codecarbon INFO @ 09:42:02] Energy consumed for all GPUs : 0.000901 kWh. Total GPU Power : 21.560363390125683 W\n",
      "[codecarbon INFO @ 09:42:02] 0.002036 kWh of electricity used since the beginning.\n"
     ]
    },
    {
     "name": "stdout",
     "output_type": "stream",
     "text": [
      "-instruct-v0.1.Q4_K  65%[============>       ]   2.64G  24.8MB/s    eta 64s    "
     ]
    },
    {
     "name": "stderr",
     "output_type": "stream",
     "text": [
      "[codecarbon INFO @ 09:42:17] Energy consumed for RAM : 0.000891 kWh. RAM Power : 20.0 W\n"
     ]
    },
    {
     "name": "stdout",
     "output_type": "stream",
     "text": [
      "struct-v0.1.Q4_K_M.  65%[============>       ]   2.66G  25.0MB/s    eta 63s    "
     ]
    },
    {
     "name": "stderr",
     "output_type": "stream",
     "text": [
      "[codecarbon INFO @ 09:42:17] Delta energy consumed for CPU with cpu_load : 0.000032 kWh, power : 8.0 W\n",
      "[codecarbon INFO @ 09:42:17] Energy consumed for All CPU : 0.000357 kWh\n",
      "[codecarbon INFO @ 09:42:17] Energy consumed for all GPUs : 0.000991 kWh. Total GPU Power : 21.73503126214996 W\n",
      "[codecarbon INFO @ 09:42:17] 0.002239 kWh of electricity used since the beginning.\n"
     ]
    },
    {
     "name": "stdout",
     "output_type": "stream",
     "text": [
      "b-instruct-v0.1.Q4_  74%[=============>      ]   3.02G  25.5MB/s    eta 47s    "
     ]
    },
    {
     "name": "stderr",
     "output_type": "stream",
     "text": [
      "[codecarbon INFO @ 09:42:32] Energy consumed for RAM : 0.000972 kWh. RAM Power : 20.0 W\n"
     ]
    },
    {
     "name": "stdout",
     "output_type": "stream",
     "text": [
      "instruct-v0.1.Q4_K_  74%[=============>      ]   3.03G  25.5MB/s    eta 46s    "
     ]
    },
    {
     "name": "stderr",
     "output_type": "stream",
     "text": [
      "[codecarbon INFO @ 09:42:32] Delta energy consumed for CPU with cpu_load : 0.000032 kWh, power : 8.0 W\n",
      "[codecarbon INFO @ 09:42:32] Energy consumed for All CPU : 0.000389 kWh\n",
      "[codecarbon INFO @ 09:42:32] Energy consumed for all GPUs : 0.001081 kWh. Total GPU Power : 21.49927493299787 W\n",
      "[codecarbon INFO @ 09:42:32] 0.002441 kWh of electricity used since the beginning.\n"
     ]
    },
    {
     "name": "stdout",
     "output_type": "stream",
     "text": [
      "l-7b-instruct-v0.1.  82%[===============>    ]   3.37G  22.6MB/s    eta 31s    "
     ]
    },
    {
     "name": "stderr",
     "output_type": "stream",
     "text": [
      "[codecarbon INFO @ 09:42:47] Energy consumed for RAM : 0.001052 kWh. RAM Power : 20.0 W\n"
     ]
    },
    {
     "name": "stdout",
     "output_type": "stream",
     "text": [
      "7b-instruct-v0.1.Q4  83%[===============>    ]   3.38G  22.3MB/s    eta 31s    "
     ]
    },
    {
     "name": "stderr",
     "output_type": "stream",
     "text": [
      "[codecarbon INFO @ 09:42:47] Delta energy consumed for CPU with cpu_load : 0.000032 kWh, power : 8.0 W\n",
      "[codecarbon INFO @ 09:42:47] Energy consumed for All CPU : 0.000421 kWh\n",
      "[codecarbon INFO @ 09:42:47] Energy consumed for all GPUs : 0.001170 kWh. Total GPU Power : 21.32929673459792 W\n",
      "[codecarbon INFO @ 09:42:47] 0.002643 kWh of electricity used since the beginning.\n"
     ]
    },
    {
     "name": "stdout",
     "output_type": "stream",
     "text": [
      "tral-7b-instruct-v0  91%[=================>  ]   3.73G  25.7MB/s    eta 15s    "
     ]
    },
    {
     "name": "stderr",
     "output_type": "stream",
     "text": [
      "[codecarbon INFO @ 09:43:02] Energy consumed for RAM : 0.001133 kWh. RAM Power : 20.0 W\n"
     ]
    },
    {
     "name": "stdout",
     "output_type": "stream",
     "text": [
      "al-7b-instruct-v0.1  92%[=================>  ]   3.74G  25.8MB/s    eta 15s    "
     ]
    },
    {
     "name": "stderr",
     "output_type": "stream",
     "text": [
      "[codecarbon INFO @ 09:43:02] Delta energy consumed for CPU with cpu_load : 0.000032 kWh, power : 8.0 W\n",
      "[codecarbon INFO @ 09:43:02] Energy consumed for All CPU : 0.000453 kWh\n",
      "[codecarbon INFO @ 09:43:02] Energy consumed for all GPUs : 0.001259 kWh. Total GPU Power : 21.37607272166678 W\n",
      "[codecarbon INFO @ 09:43:02] 0.002845 kWh of electricity used since the beginning.\n"
     ]
    },
    {
     "name": "stdout",
     "output_type": "stream",
     "text": [
      "/root/models/mistra 100%[===================>]   4.07G  21.3MB/s    in 2m 56s  \n",
      "\n",
      "2025-06-16 09:43:16 (23.7 MB/s) - ‘/root/models/mistral/mistral-7b-instruct-v0.1.Q4_K_M.gguf’ saved [4368438944/4368438944]\n",
      "\n"
     ]
    },
    {
     "name": "stderr",
     "output_type": "stream",
     "text": [
      "[codecarbon INFO @ 09:43:17] Energy consumed for RAM : 0.001213 kWh. RAM Power : 20.0 W\n",
      "[codecarbon INFO @ 09:43:17] Delta energy consumed for CPU with cpu_load : 0.000032 kWh, power : 8.0 W\n",
      "[codecarbon INFO @ 09:43:17] Energy consumed for All CPU : 0.000485 kWh\n",
      "[codecarbon INFO @ 09:43:17] Energy consumed for all GPUs : 0.001347 kWh. Total GPU Power : 21.268418052972834 W\n",
      "[codecarbon INFO @ 09:43:17] 0.003046 kWh of electricity used since the beginning.\n"
     ]
    }
   ],
   "source": [
    "!mkdir -p /root/models/mistral\n",
    "!wget -O /root/models/mistral/mistral-7b-instruct-v0.1.Q4_K_M.gguf https://huggingface.co/TheBloke/Mistral-7B-Instruct-v0.1-GGUF/resolve/main/mistral-7b-instruct-v0.1.Q4_K_M.gguf"
   ]
  },
  {
   "cell_type": "code",
   "execution_count": 8,
   "id": "014df865-c54e-40f1-915c-50eb9bd68998",
   "metadata": {},
   "outputs": [
    {
     "name": "stdout",
     "output_type": "stream",
     "text": [
      "Collecting codecarbon\n",
      "  Downloading codecarbon-3.0.2-py3-none-any.whl.metadata (9.1 kB)\n",
      "Collecting arrow (from codecarbon)\n",
      "  Downloading arrow-1.3.0-py3-none-any.whl.metadata (7.5 kB)\n",
      "Collecting click (from codecarbon)\n",
      "  Downloading click-8.2.1-py3-none-any.whl.metadata (2.5 kB)\n",
      "Collecting fief-client[cli] (from codecarbon)\n",
      "  Downloading fief_client-0.20.0-py3-none-any.whl.metadata (2.1 kB)\n",
      "Collecting pandas (from codecarbon)\n",
      "  Downloading pandas-2.3.0-cp312-cp312-manylinux_2_17_x86_64.manylinux2014_x86_64.whl.metadata (91 kB)\n",
      "\u001b[2K     \u001b[90m━━━━━━━━━━━━━━━━━━━━━━━━━━━━━━━━━━━━━━━━\u001b[0m \u001b[32m91.2/91.2 kB\u001b[0m \u001b[31m2.7 MB/s\u001b[0m eta \u001b[36m0:00:00\u001b[0m\n",
      "\u001b[?25hCollecting prometheus-client (from codecarbon)\n",
      "  Downloading prometheus_client-0.22.1-py3-none-any.whl.metadata (1.9 kB)\n",
      "Requirement already satisfied: psutil>=6.0.0 in /venv/main/lib/python3.12/site-packages (from codecarbon) (7.0.0)\n",
      "Collecting py-cpuinfo (from codecarbon)\n",
      "  Downloading py_cpuinfo-9.0.0-py3-none-any.whl.metadata (794 bytes)\n",
      "Collecting pydantic (from codecarbon)\n",
      "  Downloading pydantic-2.11.7-py3-none-any.whl.metadata (67 kB)\n",
      "\u001b[2K     \u001b[90m━━━━━━━━━━━━━━━━━━━━━━━━━━━━━━━━━━━━━━━━\u001b[0m \u001b[32m68.0/68.0 kB\u001b[0m \u001b[31m10.7 MB/s\u001b[0m eta \u001b[36m0:00:00\u001b[0m\n",
      "\u001b[?25hCollecting pynvml (from codecarbon)\n",
      "  Downloading pynvml-12.0.0-py3-none-any.whl.metadata (5.4 kB)\n",
      "Collecting questionary (from codecarbon)\n",
      "  Downloading questionary-2.1.0-py3-none-any.whl.metadata (5.4 kB)\n",
      "Collecting rapidfuzz (from codecarbon)\n",
      "  Downloading rapidfuzz-3.13.0-cp312-cp312-manylinux_2_17_x86_64.manylinux2014_x86_64.whl.metadata (12 kB)\n",
      "Requirement already satisfied: requests in /venv/main/lib/python3.12/site-packages (from codecarbon) (2.32.3)\n",
      "Collecting rich (from codecarbon)\n",
      "  Downloading rich-14.0.0-py3-none-any.whl.metadata (18 kB)\n",
      "Collecting typer (from codecarbon)\n",
      "  Downloading typer-0.16.0-py3-none-any.whl.metadata (15 kB)\n",
      "Requirement already satisfied: python-dateutil>=2.7.0 in /venv/main/lib/python3.12/site-packages (from arrow->codecarbon) (2.9.0.post0)\n",
      "Collecting types-python-dateutil>=2.8.10 (from arrow->codecarbon)\n",
      "  Downloading types_python_dateutil-2.9.0.20250516-py3-none-any.whl.metadata (2.1 kB)\n",
      "Collecting httpx<0.28.0,>=0.21.3 (from fief-client[cli]->codecarbon)\n",
      "  Downloading httpx-0.27.2-py3-none-any.whl.metadata (7.1 kB)\n",
      "Collecting jwcrypto<2.0.0,>=1.4 (from fief-client[cli]->codecarbon)\n",
      "  Downloading jwcrypto-1.5.6-py3-none-any.whl.metadata (3.1 kB)\n",
      "Collecting yaspin (from fief-client[cli]->codecarbon)\n",
      "  Downloading yaspin-3.1.0-py3-none-any.whl.metadata (14 kB)\n",
      "Requirement already satisfied: numpy>=1.26.0 in /venv/main/lib/python3.12/site-packages (from pandas->codecarbon) (2.1.2)\n",
      "Collecting pytz>=2020.1 (from pandas->codecarbon)\n",
      "  Downloading pytz-2025.2-py2.py3-none-any.whl.metadata (22 kB)\n",
      "Collecting tzdata>=2022.7 (from pandas->codecarbon)\n",
      "  Downloading tzdata-2025.2-py2.py3-none-any.whl.metadata (1.4 kB)\n",
      "Collecting annotated-types>=0.6.0 (from pydantic->codecarbon)\n",
      "  Downloading annotated_types-0.7.0-py3-none-any.whl.metadata (15 kB)\n",
      "Collecting pydantic-core==2.33.2 (from pydantic->codecarbon)\n",
      "  Downloading pydantic_core-2.33.2-cp312-cp312-manylinux_2_17_x86_64.manylinux2014_x86_64.whl.metadata (6.8 kB)\n",
      "Requirement already satisfied: typing-extensions>=4.12.2 in /venv/main/lib/python3.12/site-packages (from pydantic->codecarbon) (4.13.2)\n",
      "Collecting typing-inspection>=0.4.0 (from pydantic->codecarbon)\n",
      "  Downloading typing_inspection-0.4.1-py3-none-any.whl.metadata (2.6 kB)\n",
      "Collecting nvidia-ml-py<13.0.0a0,>=12.0.0 (from pynvml->codecarbon)\n",
      "  Downloading nvidia_ml_py-12.575.51-py3-none-any.whl.metadata (9.3 kB)\n",
      "Requirement already satisfied: prompt_toolkit<4.0,>=2.0 in /venv/main/lib/python3.12/site-packages (from questionary->codecarbon) (3.0.51)\n",
      "Requirement already satisfied: charset-normalizer<4,>=2 in /venv/main/lib/python3.12/site-packages (from requests->codecarbon) (3.4.1)\n",
      "Requirement already satisfied: idna<4,>=2.5 in /venv/main/lib/python3.12/site-packages (from requests->codecarbon) (3.10)\n",
      "Requirement already satisfied: urllib3<3,>=1.21.1 in /venv/main/lib/python3.12/site-packages (from requests->codecarbon) (2.4.0)\n",
      "Requirement already satisfied: certifi>=2017.4.17 in /venv/main/lib/python3.12/site-packages (from requests->codecarbon) (2025.4.26)\n",
      "Collecting markdown-it-py>=2.2.0 (from rich->codecarbon)\n",
      "  Downloading markdown_it_py-3.0.0-py3-none-any.whl.metadata (6.9 kB)\n",
      "Requirement already satisfied: pygments<3.0.0,>=2.13.0 in /venv/main/lib/python3.12/site-packages (from rich->codecarbon) (2.19.1)\n",
      "Collecting shellingham>=1.3.0 (from typer->codecarbon)\n",
      "  Downloading shellingham-1.5.4-py2.py3-none-any.whl.metadata (3.5 kB)\n",
      "Collecting anyio (from httpx<0.28.0,>=0.21.3->fief-client[cli]->codecarbon)\n",
      "  Downloading anyio-4.9.0-py3-none-any.whl.metadata (4.7 kB)\n",
      "Collecting httpcore==1.* (from httpx<0.28.0,>=0.21.3->fief-client[cli]->codecarbon)\n",
      "  Downloading httpcore-1.0.9-py3-none-any.whl.metadata (21 kB)\n",
      "Collecting sniffio (from httpx<0.28.0,>=0.21.3->fief-client[cli]->codecarbon)\n",
      "  Downloading sniffio-1.3.1-py3-none-any.whl.metadata (3.9 kB)\n",
      "Collecting h11>=0.16 (from httpcore==1.*->httpx<0.28.0,>=0.21.3->fief-client[cli]->codecarbon)\n",
      "  Downloading h11-0.16.0-py3-none-any.whl.metadata (8.3 kB)\n",
      "Collecting cryptography>=3.4 (from jwcrypto<2.0.0,>=1.4->fief-client[cli]->codecarbon)\n",
      "  Downloading cryptography-45.0.4-cp311-abi3-manylinux_2_34_x86_64.whl.metadata (5.7 kB)\n",
      "Collecting mdurl~=0.1 (from markdown-it-py>=2.2.0->rich->codecarbon)\n",
      "  Downloading mdurl-0.1.2-py3-none-any.whl.metadata (1.6 kB)\n",
      "Requirement already satisfied: wcwidth in /venv/main/lib/python3.12/site-packages (from prompt_toolkit<4.0,>=2.0->questionary->codecarbon) (0.2.13)\n",
      "Requirement already satisfied: six>=1.5 in /venv/main/lib/python3.12/site-packages (from python-dateutil>=2.7.0->arrow->codecarbon) (1.17.0)\n",
      "Collecting termcolor<2.4.0,>=2.2.0 (from yaspin->fief-client[cli]->codecarbon)\n",
      "  Downloading termcolor-2.3.0-py3-none-any.whl.metadata (5.3 kB)\n",
      "Collecting cffi>=1.14 (from cryptography>=3.4->jwcrypto<2.0.0,>=1.4->fief-client[cli]->codecarbon)\n",
      "  Downloading cffi-1.17.1-cp312-cp312-manylinux_2_17_x86_64.manylinux2014_x86_64.whl.metadata (1.5 kB)\n",
      "Collecting pycparser (from cffi>=1.14->cryptography>=3.4->jwcrypto<2.0.0,>=1.4->fief-client[cli]->codecarbon)\n",
      "  Downloading pycparser-2.22-py3-none-any.whl.metadata (943 bytes)\n",
      "Downloading codecarbon-3.0.2-py3-none-any.whl (610 kB)\n",
      "\u001b[2K   \u001b[90m━━━━━━━━━━━━━━━━━━━━━━━━━━━━━━━━━━━━━━━━\u001b[0m \u001b[32m610.1/610.1 kB\u001b[0m \u001b[31m12.5 MB/s\u001b[0m eta \u001b[36m0:00:00\u001b[0ma \u001b[36m0:00:01\u001b[0m\n",
      "\u001b[?25hDownloading arrow-1.3.0-py3-none-any.whl (66 kB)\n",
      "\u001b[2K   \u001b[90m━━━━━━━━━━━━━━━━━━━━━━━━━━━━━━━━━━━━━━━━\u001b[0m \u001b[32m66.4/66.4 kB\u001b[0m \u001b[31m13.0 MB/s\u001b[0m eta \u001b[36m0:00:00\u001b[0m\n",
      "\u001b[?25hDownloading click-8.2.1-py3-none-any.whl (102 kB)\n",
      "\u001b[2K   \u001b[90m━━━━━━━━━━━━━━━━━━━━━━━━━━━━━━━━━━━━━━━━\u001b[0m \u001b[32m102.2/102.2 kB\u001b[0m \u001b[31m20.0 MB/s\u001b[0m eta \u001b[36m0:00:00\u001b[0m\n",
      "\u001b[?25hDownloading pandas-2.3.0-cp312-cp312-manylinux_2_17_x86_64.manylinux2014_x86_64.whl (12.0 MB)\n",
      "\u001b[2K   \u001b[90m━━━━━━━━━━━━━━━━━━━━━━━━━━━━━━━━━━━━━━━━\u001b[0m \u001b[32m12.0/12.0 MB\u001b[0m \u001b[31m77.5 MB/s\u001b[0m eta \u001b[36m0:00:00\u001b[0m00:01\u001b[0m0:01\u001b[0m\n",
      "\u001b[?25hDownloading prometheus_client-0.22.1-py3-none-any.whl (58 kB)\n",
      "\u001b[2K   \u001b[90m━━━━━━━━━━━━━━━━━━━━━━━━━━━━━━━━━━━━━━━━\u001b[0m \u001b[32m58.7/58.7 kB\u001b[0m \u001b[31m12.6 MB/s\u001b[0m eta \u001b[36m0:00:00\u001b[0m\n",
      "\u001b[?25hDownloading py_cpuinfo-9.0.0-py3-none-any.whl (22 kB)\n",
      "Downloading pydantic-2.11.7-py3-none-any.whl (444 kB)\n",
      "\u001b[2K   \u001b[90m━━━━━━━━━━━━━━━━━━━━━━━━━━━━━━━━━━━━━━━━\u001b[0m \u001b[32m444.8/444.8 kB\u001b[0m \u001b[31m53.8 MB/s\u001b[0m eta \u001b[36m0:00:00\u001b[0m\n",
      "\u001b[?25hDownloading pydantic_core-2.33.2-cp312-cp312-manylinux_2_17_x86_64.manylinux2014_x86_64.whl (2.0 MB)\n",
      "\u001b[2K   \u001b[90m━━━━━━━━━━━━━━━━━━━━━━━━━━━━━━━━━━━━━━━━\u001b[0m \u001b[32m2.0/2.0 MB\u001b[0m \u001b[31m125.3 MB/s\u001b[0m eta \u001b[36m0:00:00\u001b[0m\n",
      "\u001b[?25hDownloading pynvml-12.0.0-py3-none-any.whl (26 kB)\n",
      "Downloading questionary-2.1.0-py3-none-any.whl (36 kB)\n",
      "Downloading rapidfuzz-3.13.0-cp312-cp312-manylinux_2_17_x86_64.manylinux2014_x86_64.whl (3.1 MB)\n",
      "\u001b[2K   \u001b[90m━━━━━━━━━━━━━━━━━━━━━━━━━━━━━━━━━━━━━━━━\u001b[0m \u001b[32m3.1/3.1 MB\u001b[0m \u001b[31m124.7 MB/s\u001b[0m eta \u001b[36m0:00:00\u001b[0m\n",
      "\u001b[?25hDownloading rich-14.0.0-py3-none-any.whl (243 kB)\n",
      "\u001b[2K   \u001b[90m━━━━━━━━━━━━━━━━━━━━━━━━━━━━━━━━━━━━━━━━\u001b[0m \u001b[32m243.2/243.2 kB\u001b[0m \u001b[31m39.6 MB/s\u001b[0m eta \u001b[36m0:00:00\u001b[0m\n",
      "\u001b[?25hDownloading typer-0.16.0-py3-none-any.whl (46 kB)\n",
      "\u001b[2K   \u001b[90m━━━━━━━━━━━━━━━━━━━━━━━━━━━━━━━━━━━━━━━━\u001b[0m \u001b[32m46.3/46.3 kB\u001b[0m \u001b[31m7.6 MB/s\u001b[0m eta \u001b[36m0:00:00\u001b[0m\n",
      "\u001b[?25hDownloading annotated_types-0.7.0-py3-none-any.whl (13 kB)\n",
      "Downloading httpx-0.27.2-py3-none-any.whl (76 kB)\n",
      "\u001b[2K   \u001b[90m━━━━━━━━━━━━━━━━━━━━━━━━━━━━━━━━━━━━━━━━\u001b[0m \u001b[32m76.4/76.4 kB\u001b[0m \u001b[31m13.7 MB/s\u001b[0m eta \u001b[36m0:00:00\u001b[0m\n",
      "\u001b[?25hDownloading httpcore-1.0.9-py3-none-any.whl (78 kB)\n",
      "\u001b[2K   \u001b[90m━━━━━━━━━━━━━━━━━━━━━━━━━━━━━━━━━━━━━━━━\u001b[0m \u001b[32m78.8/78.8 kB\u001b[0m \u001b[31m14.0 MB/s\u001b[0m eta \u001b[36m0:00:00\u001b[0m\n",
      "\u001b[?25hDownloading jwcrypto-1.5.6-py3-none-any.whl (92 kB)\n",
      "\u001b[2K   \u001b[90m━━━━━━━━━━━━━━━━━━━━━━━━━━━━━━━━━━━━━━━━\u001b[0m \u001b[32m92.5/92.5 kB\u001b[0m \u001b[31m25.2 MB/s\u001b[0m eta \u001b[36m0:00:00\u001b[0m\n",
      "\u001b[?25hDownloading markdown_it_py-3.0.0-py3-none-any.whl (87 kB)\n",
      "\u001b[2K   \u001b[90m━━━━━━━━━━━━━━━━━━━━━━━━━━━━━━━━━━━━━━━━\u001b[0m \u001b[32m87.5/87.5 kB\u001b[0m \u001b[31m15.4 MB/s\u001b[0m eta \u001b[36m0:00:00\u001b[0m\n",
      "\u001b[?25hDownloading nvidia_ml_py-12.575.51-py3-none-any.whl (47 kB)\n",
      "\u001b[2K   \u001b[90m━━━━━━━━━━━━━━━━━━━━━━━━━━━━━━━━━━━━━━━━\u001b[0m \u001b[32m47.5/47.5 kB\u001b[0m \u001b[31m8.6 MB/s\u001b[0m eta \u001b[36m0:00:00\u001b[0m\n",
      "\u001b[?25hDownloading pytz-2025.2-py2.py3-none-any.whl (509 kB)\n",
      "\u001b[2K   \u001b[90m━━━━━━━━━━━━━━━━━━━━━━━━━━━━━━━━━━━━━━━━\u001b[0m \u001b[32m509.2/509.2 kB\u001b[0m \u001b[31m73.1 MB/s\u001b[0m eta \u001b[36m0:00:00\u001b[0m\n",
      "\u001b[?25hDownloading shellingham-1.5.4-py2.py3-none-any.whl (9.8 kB)\n",
      "Downloading types_python_dateutil-2.9.0.20250516-py3-none-any.whl (14 kB)\n",
      "Downloading typing_inspection-0.4.1-py3-none-any.whl (14 kB)\n",
      "Downloading tzdata-2025.2-py2.py3-none-any.whl (347 kB)\n",
      "\u001b[2K   \u001b[90m━━━━━━━━━━━━━━━━━━━━━━━━━━━━━━━━━━━━━━━━\u001b[0m \u001b[32m347.8/347.8 kB\u001b[0m \u001b[31m55.5 MB/s\u001b[0m eta \u001b[36m0:00:00\u001b[0m\n",
      "\u001b[?25hDownloading fief_client-0.20.0-py3-none-any.whl (20 kB)\n",
      "Downloading yaspin-3.1.0-py3-none-any.whl (18 kB)\n",
      "Downloading cryptography-45.0.4-cp311-abi3-manylinux_2_34_x86_64.whl (4.5 MB)\n",
      "\u001b[2K   \u001b[90m━━━━━━━━━━━━━━━━━━━━━━━━━━━━━━━━━━━━━━━━\u001b[0m \u001b[32m4.5/4.5 MB\u001b[0m \u001b[31m102.9 MB/s\u001b[0m eta \u001b[36m0:00:00\u001b[0ma \u001b[36m0:00:01\u001b[0m\n",
      "\u001b[?25hDownloading mdurl-0.1.2-py3-none-any.whl (10.0 kB)\n",
      "Downloading termcolor-2.3.0-py3-none-any.whl (6.9 kB)\n",
      "Downloading anyio-4.9.0-py3-none-any.whl (100 kB)\n",
      "\u001b[2K   \u001b[90m━━━━━━━━━━━━━━━━━━━━━━━━━━━━━━━━━━━━━━━━\u001b[0m \u001b[32m100.9/100.9 kB\u001b[0m \u001b[31m20.0 MB/s\u001b[0m eta \u001b[36m0:00:00\u001b[0m\n",
      "\u001b[?25hDownloading sniffio-1.3.1-py3-none-any.whl (10 kB)\n",
      "Downloading cffi-1.17.1-cp312-cp312-manylinux_2_17_x86_64.manylinux2014_x86_64.whl (479 kB)\n",
      "\u001b[2K   \u001b[90m━━━━━━━━━━━━━━━━━━━━━━━━━━━━━━━━━━━━━━━━\u001b[0m \u001b[32m479.4/479.4 kB\u001b[0m \u001b[31m69.0 MB/s\u001b[0m eta \u001b[36m0:00:00\u001b[0m\n",
      "\u001b[?25hDownloading h11-0.16.0-py3-none-any.whl (37 kB)\n",
      "Downloading pycparser-2.22-py3-none-any.whl (117 kB)\n",
      "\u001b[2K   \u001b[90m━━━━━━━━━━━━━━━━━━━━━━━━━━━━━━━━━━━━━━━━\u001b[0m \u001b[32m117.6/117.6 kB\u001b[0m \u001b[31m19.7 MB/s\u001b[0m eta \u001b[36m0:00:00\u001b[0m\n",
      "\u001b[?25hInstalling collected packages: pytz, py-cpuinfo, nvidia-ml-py, tzdata, typing-inspection, types-python-dateutil, termcolor, sniffio, shellingham, rapidfuzz, pynvml, pydantic-core, pycparser, prometheus-client, mdurl, h11, click, annotated-types, yaspin, questionary, pydantic, pandas, markdown-it-py, httpcore, cffi, arrow, anyio, rich, httpx, cryptography, typer, jwcrypto, fief-client, codecarbon\n",
      "Successfully installed annotated-types-0.7.0 anyio-4.9.0 arrow-1.3.0 cffi-1.17.1 click-8.2.1 codecarbon-3.0.2 cryptography-45.0.4 fief-client-0.20.0 h11-0.16.0 httpcore-1.0.9 httpx-0.27.2 jwcrypto-1.5.6 markdown-it-py-3.0.0 mdurl-0.1.2 nvidia-ml-py-12.575.51 pandas-2.3.0 prometheus-client-0.22.1 py-cpuinfo-9.0.0 pycparser-2.22 pydantic-2.11.7 pydantic-core-2.33.2 pynvml-12.0.0 pytz-2025.2 questionary-2.1.0 rapidfuzz-3.13.0 rich-14.0.0 shellingham-1.5.4 sniffio-1.3.1 termcolor-2.3.0 typer-0.16.0 types-python-dateutil-2.9.0.20250516 typing-inspection-0.4.1 tzdata-2025.2 yaspin-3.1.0\n"
     ]
    }
   ],
   "source": [
    "!pip install codecarbon"
   ]
  },
  {
   "cell_type": "code",
   "execution_count": 13,
   "id": "e8a01d0e-d1b8-46bc-8ea2-e77d7f5b89ed",
   "metadata": {},
   "outputs": [
    {
     "name": "stderr",
     "output_type": "stream",
     "text": [
      "[codecarbon WARNING @ 09:46:21] Multiple instances of codecarbon are allowed to run at the same time.\n",
      "[codecarbon INFO @ 09:46:21] [setup] RAM Tracking...\n",
      "[codecarbon INFO @ 09:46:21] [setup] CPU Tracking...\n",
      "[codecarbon WARNING @ 09:46:22] We saw that you have a Intel(R) Core(TM) i5-14600KF but we don't know it. Please contact us.\n",
      "[codecarbon WARNING @ 09:46:22] We will use the default power consumption of 4 W per thread for your 20 CPU, so 80W.\n",
      "[codecarbon WARNING @ 09:46:22] No CPU tracking mode found. Falling back on estimation based on TDP for CPU. \n",
      " Linux OS detected: Please ensure RAPL files exist at /sys/class/powercap/intel-rapl/subsystem to measure CPU\n",
      "\n",
      "[codecarbon INFO @ 09:46:22] CPU Model on constant consumption mode: Intel(R) Core(TM) i5-14600KF\n",
      "[codecarbon WARNING @ 09:46:22] No CPU tracking mode found. Falling back on CPU load mode.\n",
      "[codecarbon INFO @ 09:46:22] [setup] GPU Tracking...\n",
      "[codecarbon INFO @ 09:46:22] Tracking Nvidia GPU via pynvml\n",
      "[codecarbon INFO @ 09:46:22] The below tracking methods have been set up:\n",
      "                RAM Tracking Method: RAM power estimation model\n",
      "                CPU Tracking Method: cpu_load\n",
      "                GPU Tracking Method: pynvml\n",
      "            \n",
      "[codecarbon INFO @ 09:46:22] >>> Tracker's metadata:\n",
      "[codecarbon INFO @ 09:46:22]   Platform system: Linux-6.8.0-52-generic-x86_64-with-glibc2.39\n",
      "[codecarbon INFO @ 09:46:22]   Python version: 3.12.3\n",
      "[codecarbon INFO @ 09:46:22]   CodeCarbon version: 3.0.2\n",
      "[codecarbon INFO @ 09:46:22]   Available RAM : 62.629 GB\n",
      "[codecarbon INFO @ 09:46:22]   CPU count: 20 thread(s) in 1 physical CPU(s)\n",
      "[codecarbon INFO @ 09:46:22]   CPU model: Intel(R) Core(TM) i5-14600KF\n",
      "[codecarbon INFO @ 09:46:22]   GPU count: 1\n",
      "[codecarbon INFO @ 09:46:22]   GPU model: 1 x NVIDIA GeForce RTX 5070 Ti\n",
      "[codecarbon INFO @ 09:46:26] Emissions data (if any) will be saved to file /emissions.csv\n",
      "llama_context: n_ctx_per_seq (2048) < n_ctx_train (32768) -- the full capacity of the model will not be utilized\n",
      "[codecarbon INFO @ 09:46:29] Energy consumed for RAM : 0.000972 kWh. RAM Power : 20.0 W\n",
      "[codecarbon INFO @ 09:46:30] Delta energy consumed for CPU with cpu_load : 0.000053 kWh, power : 13.115 W\n",
      "[codecarbon INFO @ 09:46:30] Energy consumed for All CPU : 0.000409 kWh\n",
      "[codecarbon INFO @ 09:46:30] Energy consumed for all GPUs : 0.001065 kWh. Total GPU Power : 21.536830408498886 W\n",
      "[codecarbon INFO @ 09:46:30] 0.002446 kWh of electricity used since the beginning.\n",
      "[codecarbon INFO @ 09:46:32] Energy consumed for RAM : 0.002260 kWh. RAM Power : 20.0 W\n",
      "[codecarbon INFO @ 09:46:32] Delta energy consumed for CPU with cpu_load : 0.000064 kWh, power : 15.935 W\n",
      "[codecarbon INFO @ 09:46:32] Energy consumed for All CPU : 0.000936 kWh\n",
      "[codecarbon INFO @ 09:46:32] Energy consumed for all GPUs : 0.002498 kWh. Total GPU Power : 21.524271580752654 W\n",
      "[codecarbon INFO @ 09:46:32] 0.005694 kWh of electricity used since the beginning.\n",
      "[codecarbon INFO @ 09:46:41] Energy consumed for RAM : 0.000086 kWh. RAM Power : 20.0 W\n",
      "[codecarbon INFO @ 09:46:41] Energy consumed for RAM : 0.000173 kWh. RAM Power : 20.0 W\n",
      "[codecarbon INFO @ 09:46:42] Delta energy consumed for CPU with cpu_load : 0.000131 kWh, power : 30.448 W\n",
      "[codecarbon INFO @ 09:46:42] Energy consumed for All CPU : 0.000131 kWh\n",
      "[codecarbon INFO @ 09:46:42] Energy consumed for all GPUs : 0.000092 kWh. Total GPU Power : 20.641908834948023 W\n",
      "[codecarbon INFO @ 09:46:42] 0.000396 kWh of electricity used since the beginning.\n",
      "[codecarbon INFO @ 09:46:42] Delta energy consumed for CPU with cpu_load : 0.000036 kWh, power : 8.4 W\n",
      "[codecarbon INFO @ 09:46:42] Energy consumed for All CPU : 0.000168 kWh\n",
      "[codecarbon INFO @ 09:46:42] Energy consumed for all GPUs : 0.000093 kWh. Total GPU Power : 28.925744033987325 W\n",
      "[codecarbon INFO @ 09:46:42] 0.000433 kWh of electricity used since the beginning.\n"
     ]
    },
    {
     "name": "stdout",
     "output_type": "stream",
     "text": [
      "🧠 Model output:\n",
      " \n",
      "\n",
      "Artificial Intelligence (AI) can help reduce carbon emissions in several ways. Here are some examples:\n",
      "\n",
      "1. Energy Efficiency: AI can optimize energy usage in buildings, factories, and homes by predicting and adjusting energy demands, reducing energy waste, and improving the efficiency of heating, ventilation, and air conditioning systems. This results in lower energy consumption and, consequently, a reduction in carbon emissions.\n",
      "\n",
      "2. Renewable Energy: AI\n",
      "\n",
      "⏱ Inference time: 13.96 seconds\n",
      "⚡ Energy used: 0.433 Wh\n",
      "🌍 CO₂ emitted: 0.206 g\n"
     ]
    },
    {
     "name": "stderr",
     "output_type": "stream",
     "text": [
      "[codecarbon INFO @ 09:46:44] Energy consumed for RAM : 0.001052 kWh. RAM Power : 20.0 W\n",
      "[codecarbon INFO @ 09:46:45] Delta energy consumed for CPU with cpu_load : 0.000105 kWh, power : 25.95 W\n",
      "[codecarbon INFO @ 09:46:45] Energy consumed for All CPU : 0.000514 kWh\n",
      "[codecarbon INFO @ 09:46:45] Energy consumed for all GPUs : 0.001155 kWh. Total GPU Power : 21.477684126428038 W\n",
      "[codecarbon INFO @ 09:46:45] 0.002721 kWh of electricity used since the beginning.\n",
      "[codecarbon INFO @ 09:46:47] Energy consumed for RAM : 0.002340 kWh. RAM Power : 20.0 W\n",
      "[codecarbon INFO @ 09:46:47] Delta energy consumed for CPU with cpu_load : 0.000092 kWh, power : 22.790000000000003 W\n",
      "[codecarbon INFO @ 09:46:47] Energy consumed for All CPU : 0.001028 kWh\n",
      "[codecarbon INFO @ 09:46:47] Energy consumed for all GPUs : 0.002588 kWh. Total GPU Power : 21.516696545862445 W\n",
      "[codecarbon INFO @ 09:46:47] 0.005956 kWh of electricity used since the beginning.\n",
      "[codecarbon INFO @ 09:46:59] Energy consumed for RAM : 0.001133 kWh. RAM Power : 20.0 W\n",
      "[codecarbon INFO @ 09:47:00] Delta energy consumed for CPU with cpu_load : 0.000032 kWh, power : 8.0 W\n",
      "[codecarbon INFO @ 09:47:00] Energy consumed for All CPU : 0.000546 kWh\n",
      "[codecarbon INFO @ 09:47:00] Energy consumed for all GPUs : 0.001244 kWh. Total GPU Power : 21.40994987491028 W\n",
      "[codecarbon INFO @ 09:47:00] 0.002923 kWh of electricity used since the beginning.\n",
      "[codecarbon INFO @ 09:47:02] Energy consumed for RAM : 0.002421 kWh. RAM Power : 20.0 W\n",
      "[codecarbon INFO @ 09:47:02] Delta energy consumed for CPU with cpu_load : 0.000032 kWh, power : 8.0 W\n",
      "[codecarbon INFO @ 09:47:02] Energy consumed for All CPU : 0.001060 kWh\n",
      "[codecarbon INFO @ 09:47:02] Energy consumed for all GPUs : 0.002677 kWh. Total GPU Power : 21.404566241767295 W\n",
      "[codecarbon INFO @ 09:47:02] 0.006158 kWh of electricity used since the beginning.\n",
      "[codecarbon INFO @ 09:47:14] Energy consumed for RAM : 0.001213 kWh. RAM Power : 20.0 W\n",
      "[codecarbon INFO @ 09:47:15] Delta energy consumed for CPU with cpu_load : 0.000032 kWh, power : 8.0 W\n",
      "[codecarbon INFO @ 09:47:15] Energy consumed for All CPU : 0.000578 kWh\n",
      "[codecarbon INFO @ 09:47:15] Energy consumed for all GPUs : 0.001333 kWh. Total GPU Power : 21.326681391006723 W\n",
      "[codecarbon INFO @ 09:47:15] 0.003124 kWh of electricity used since the beginning.\n",
      "[codecarbon INFO @ 09:47:17] Energy consumed for RAM : 0.002501 kWh. RAM Power : 20.0 W\n",
      "[codecarbon INFO @ 09:47:17] Delta energy consumed for CPU with cpu_load : 0.000032 kWh, power : 8.0 W\n",
      "[codecarbon INFO @ 09:47:17] Energy consumed for All CPU : 0.001092 kWh\n",
      "[codecarbon INFO @ 09:47:17] Energy consumed for all GPUs : 0.002766 kWh. Total GPU Power : 21.309179895420083 W\n",
      "[codecarbon INFO @ 09:47:17] 0.006359 kWh of electricity used since the beginning.\n",
      "[codecarbon INFO @ 09:47:29] Energy consumed for RAM : 0.001294 kWh. RAM Power : 20.0 W\n",
      "[codecarbon INFO @ 09:47:30] Delta energy consumed for CPU with cpu_load : 0.000032 kWh, power : 8.0 W\n",
      "[codecarbon INFO @ 09:47:30] Energy consumed for All CPU : 0.000610 kWh\n",
      "[codecarbon INFO @ 09:47:30] Energy consumed for all GPUs : 0.001421 kWh. Total GPU Power : 21.248806619946592 W\n",
      "[codecarbon INFO @ 09:47:30] 0.003326 kWh of electricity used since the beginning.\n",
      "[codecarbon INFO @ 09:47:30] 0.006758 g.CO2eq/s mean an estimation of 213.11072198098822 kg.CO2eq/year\n",
      "[codecarbon INFO @ 09:47:32] Energy consumed for RAM : 0.002582 kWh. RAM Power : 20.0 W\n",
      "[codecarbon INFO @ 09:47:32] Delta energy consumed for CPU with cpu_load : 0.000032 kWh, power : 8.0 W\n",
      "[codecarbon INFO @ 09:47:32] Energy consumed for All CPU : 0.001124 kWh\n",
      "[codecarbon INFO @ 09:47:32] Energy consumed for all GPUs : 0.002854 kWh. Total GPU Power : 21.26145368764501 W\n",
      "[codecarbon INFO @ 09:47:32] 0.006561 kWh of electricity used since the beginning.\n",
      "[codecarbon INFO @ 09:47:32] 0.006753 g.CO2eq/s mean an estimation of 212.9614679032633 kg.CO2eq/year\n",
      "[codecarbon INFO @ 09:47:44] Energy consumed for RAM : 0.001374 kWh. RAM Power : 20.0 W\n",
      "[codecarbon INFO @ 09:47:45] Delta energy consumed for CPU with cpu_load : 0.000032 kWh, power : 8.0 W\n",
      "[codecarbon INFO @ 09:47:45] Energy consumed for All CPU : 0.000643 kWh\n",
      "[codecarbon INFO @ 09:47:45] Energy consumed for all GPUs : 0.001510 kWh. Total GPU Power : 21.38143236784651 W\n",
      "[codecarbon INFO @ 09:47:45] 0.003527 kWh of electricity used since the beginning.\n",
      "[codecarbon INFO @ 09:47:47] Energy consumed for RAM : 0.002662 kWh. RAM Power : 20.0 W\n",
      "[codecarbon INFO @ 09:47:47] Delta energy consumed for CPU with cpu_load : 0.000032 kWh, power : 8.0 W\n",
      "[codecarbon INFO @ 09:47:47] Energy consumed for All CPU : 0.001157 kWh\n",
      "[codecarbon INFO @ 09:47:47] Energy consumed for all GPUs : 0.002944 kWh. Total GPU Power : 21.427590402828915 W\n",
      "[codecarbon INFO @ 09:47:47] 0.006763 kWh of electricity used since the beginning.\n",
      "[codecarbon INFO @ 09:47:59] Energy consumed for RAM : 0.001455 kWh. RAM Power : 20.0 W\n",
      "[codecarbon INFO @ 09:48:00] Delta energy consumed for CPU with cpu_load : 0.000032 kWh, power : 8.0 W\n",
      "[codecarbon INFO @ 09:48:00] Energy consumed for All CPU : 0.000675 kWh\n",
      "[codecarbon INFO @ 09:48:00] Energy consumed for all GPUs : 0.001599 kWh. Total GPU Power : 21.321617568913364 W\n",
      "[codecarbon INFO @ 09:48:00] 0.003729 kWh of electricity used since the beginning.\n",
      "[codecarbon INFO @ 09:48:02] Energy consumed for RAM : 0.002743 kWh. RAM Power : 20.0 W\n",
      "[codecarbon INFO @ 09:48:02] Delta energy consumed for CPU with cpu_load : 0.000032 kWh, power : 8.0 W\n",
      "[codecarbon INFO @ 09:48:02] Energy consumed for All CPU : 0.001189 kWh\n",
      "[codecarbon INFO @ 09:48:02] Energy consumed for all GPUs : 0.003032 kWh. Total GPU Power : 21.22601176236738 W\n",
      "[codecarbon INFO @ 09:48:02] 0.006964 kWh of electricity used since the beginning.\n",
      "[codecarbon INFO @ 09:48:14] Energy consumed for RAM : 0.001535 kWh. RAM Power : 20.0 W\n",
      "[codecarbon INFO @ 09:48:15] Delta energy consumed for CPU with cpu_load : 0.000032 kWh, power : 8.0 W\n",
      "[codecarbon INFO @ 09:48:15] Energy consumed for All CPU : 0.000707 kWh\n",
      "[codecarbon INFO @ 09:48:15] Energy consumed for all GPUs : 0.001688 kWh. Total GPU Power : 21.25429238130273 W\n",
      "[codecarbon INFO @ 09:48:15] 0.003930 kWh of electricity used since the beginning.\n",
      "[codecarbon INFO @ 09:48:17] Energy consumed for RAM : 0.002823 kWh. RAM Power : 20.0 W\n",
      "[codecarbon INFO @ 09:48:17] Delta energy consumed for CPU with cpu_load : 0.000032 kWh, power : 8.0 W\n",
      "[codecarbon INFO @ 09:48:17] Energy consumed for All CPU : 0.001221 kWh\n",
      "[codecarbon INFO @ 09:48:17] Energy consumed for all GPUs : 0.003121 kWh. Total GPU Power : 21.285934391689306 W\n",
      "[codecarbon INFO @ 09:48:17] 0.007165 kWh of electricity used since the beginning.\n",
      "[codecarbon INFO @ 09:48:29] Energy consumed for RAM : 0.001616 kWh. RAM Power : 20.0 W\n",
      "[codecarbon INFO @ 09:48:30] Delta energy consumed for CPU with cpu_load : 0.000032 kWh, power : 8.0 W\n",
      "[codecarbon INFO @ 09:48:30] Energy consumed for All CPU : 0.000739 kWh\n",
      "[codecarbon INFO @ 09:48:30] Energy consumed for all GPUs : 0.001776 kWh. Total GPU Power : 21.291015594690236 W\n",
      "[codecarbon INFO @ 09:48:30] 0.004132 kWh of electricity used since the beginning.\n",
      "[codecarbon INFO @ 09:48:32] Energy consumed for RAM : 0.002904 kWh. RAM Power : 20.0 W\n",
      "[codecarbon INFO @ 09:48:32] Delta energy consumed for CPU with cpu_load : 0.000032 kWh, power : 8.0 W\n",
      "[codecarbon INFO @ 09:48:32] Energy consumed for All CPU : 0.001253 kWh\n",
      "[codecarbon INFO @ 09:48:32] Energy consumed for all GPUs : 0.003209 kWh. Total GPU Power : 21.277655132891017 W\n",
      "[codecarbon INFO @ 09:48:32] 0.007367 kWh of electricity used since the beginning.\n"
     ]
    }
   ],
   "source": [
    "from codecarbon import EmissionsTracker\n",
    "from llama_cpp import Llama\n",
    "import time\n",
    "import csv\n",
    "\n",
    "# Start tracker\n",
    "tracker = EmissionsTracker(project_name=\"CarbonSwipe\", output_dir=\".\")\n",
    "tracker.start()\n",
    "\n",
    "# Load model\n",
    "llm = Llama(\n",
    "    model_path=\"/root/models/mistral/mistral-7b-instruct-v0.1.Q4_K_M.gguf\",\n",
    "    n_gpu_layers=35,\n",
    "    n_ctx=2048,\n",
    "    verbose=False\n",
    ")\n",
    "# Run inference\n",
    "prompt = \"Explain how AI can help reduce carbon emissions.\"\n",
    "start = time.time()\n",
    "output = llm(prompt, max_tokens=100, stop=[\"</s>\"])\n",
    "end = time.time()\n",
    "\n",
    "# Stop tracker\n",
    "tracker.stop()\n",
    "\n",
    "# Parse emissions.csv\n",
    "with open(\"emissions.csv\", \"r\") as f:\n",
    "    reader = csv.DictReader(f)\n",
    "    rows = list(reader)\n",
    "    last = rows[-1]  # Most recent entry\n",
    "    energy_kwh = float(last[\"energy_consumed\"])\n",
    "    co2_kg = float(last[\"emissions\"])\n",
    "\n",
    "# Show output\n",
    "print(\"🧠 Model output:\\n\", output[\"choices\"][0][\"text\"])\n",
    "print(f\"\\n⏱ Inference time: {end - start:.2f} seconds\")\n",
    "print(f\"⚡ Energy used: {energy_kwh * 1000:.3f} Wh\")\n",
    "print(f\"🌍 CO₂ emitted: {co2_kg * 1000:.3f} g\")"
   ]
  },
  {
   "cell_type": "code",
   "execution_count": 14,
   "id": "ec597e22-9340-499e-b7b5-ef7036d74a9e",
   "metadata": {},
   "outputs": [
    {
     "name": "stdout",
     "output_type": "stream",
     "text": [
      "Requirement already satisfied: pandas in /venv/main/lib/python3.12/site-packages (2.3.0)\n",
      "Collecting matplotlib\n",
      "  Downloading matplotlib-3.10.3-cp312-cp312-manylinux_2_17_x86_64.manylinux2014_x86_64.whl.metadata (11 kB)\n",
      "Requirement already satisfied: numpy>=1.26.0 in /venv/main/lib/python3.12/site-packages (from pandas) (2.1.2)\n",
      "Requirement already satisfied: python-dateutil>=2.8.2 in /venv/main/lib/python3.12/site-packages (from pandas) (2.9.0.post0)\n",
      "Requirement already satisfied: pytz>=2020.1 in /venv/main/lib/python3.12/site-packages (from pandas) (2025.2)\n",
      "Requirement already satisfied: tzdata>=2022.7 in /venv/main/lib/python3.12/site-packages (from pandas) (2025.2)\n",
      "Collecting contourpy>=1.0.1 (from matplotlib)\n",
      "  Downloading contourpy-1.3.2-cp312-cp312-manylinux_2_17_x86_64.manylinux2014_x86_64.whl.metadata (5.5 kB)\n",
      "Collecting cycler>=0.10 (from matplotlib)\n",
      "  Downloading cycler-0.12.1-py3-none-any.whl.metadata (3.8 kB)\n",
      "Collecting fonttools>=4.22.0 (from matplotlib)\n",
      "  Downloading fonttools-4.58.4-cp312-cp312-manylinux1_x86_64.manylinux2014_x86_64.manylinux_2_17_x86_64.manylinux_2_5_x86_64.whl.metadata (106 kB)\n",
      "\u001b[2K     \u001b[90m━━━━━━━━━━━━━━━━━━━━━━━━━━━━━━━━━━━━━━━\u001b[0m \u001b[32m106.6/106.6 kB\u001b[0m \u001b[31m2.0 MB/s\u001b[0m eta \u001b[36m0:00:00\u001b[0ma \u001b[36m0:00:01\u001b[0m\n",
      "\u001b[?25hCollecting kiwisolver>=1.3.1 (from matplotlib)\n",
      "  Downloading kiwisolver-1.4.8-cp312-cp312-manylinux_2_17_x86_64.manylinux2014_x86_64.whl.metadata (6.2 kB)\n",
      "Requirement already satisfied: packaging>=20.0 in /venv/main/lib/python3.12/site-packages (from matplotlib) (25.0)\n",
      "Requirement already satisfied: pillow>=8 in /venv/main/lib/python3.12/site-packages (from matplotlib) (11.0.0)\n",
      "Collecting pyparsing>=2.3.1 (from matplotlib)\n",
      "  Downloading pyparsing-3.2.3-py3-none-any.whl.metadata (5.0 kB)\n",
      "Requirement already satisfied: six>=1.5 in /venv/main/lib/python3.12/site-packages (from python-dateutil>=2.8.2->pandas) (1.17.0)\n",
      "Downloading matplotlib-3.10.3-cp312-cp312-manylinux_2_17_x86_64.manylinux2014_x86_64.whl (8.6 MB)\n",
      "\u001b[2K   \u001b[90m━━━━━━━━━━━━━━━━━━━━━━━━━━━━━━━━━━━━━━━━\u001b[0m \u001b[32m8.6/8.6 MB\u001b[0m \u001b[31m50.0 MB/s\u001b[0m eta \u001b[36m0:00:00\u001b[0ma \u001b[36m0:00:01\u001b[0m\n",
      "\u001b[?25hDownloading contourpy-1.3.2-cp312-cp312-manylinux_2_17_x86_64.manylinux2014_x86_64.whl (323 kB)\n",
      "\u001b[2K   \u001b[90m━━━━━━━━━━━━━━━━━━━━━━━━━━━━━━━━━━━━━━━━\u001b[0m \u001b[32m323.7/323.7 kB\u001b[0m \u001b[31m50.8 MB/s\u001b[0m eta \u001b[36m0:00:00\u001b[0m\n",
      "\u001b[?25hDownloading cycler-0.12.1-py3-none-any.whl (8.3 kB)\n",
      "Downloading fonttools-4.58.4-cp312-cp312-manylinux1_x86_64.manylinux2014_x86_64.manylinux_2_17_x86_64.manylinux_2_5_x86_64.whl (4.9 MB)\n",
      "\u001b[2K   \u001b[90m━━━━━━━━━━━━━━━━━━━━━━━━━━━━━━━━━━━━━━━━\u001b[0m \u001b[32m4.9/4.9 MB\u001b[0m \u001b[31m88.6 MB/s\u001b[0m eta \u001b[36m0:00:00\u001b[0mta \u001b[36m0:00:01\u001b[0m\n",
      "\u001b[?25hDownloading kiwisolver-1.4.8-cp312-cp312-manylinux_2_17_x86_64.manylinux2014_x86_64.whl (1.5 MB)\n",
      "\u001b[2K   \u001b[90m━━━━━━━━━━━━━━━━━━━━━━━━━━━━━━━━━━━━━━━━\u001b[0m \u001b[32m1.5/1.5 MB\u001b[0m \u001b[31m130.0 MB/s\u001b[0m eta \u001b[36m0:00:00\u001b[0m\n",
      "\u001b[?25hDownloading pyparsing-3.2.3-py3-none-any.whl (111 kB)\n",
      "\u001b[2K   \u001b[90m━━━━━━━━━━━━━━━━━━━━━━━━━━━━━━━━━━━━━━━━\u001b[0m \u001b[32m111.1/111.1 kB\u001b[0m \u001b[31m21.4 MB/s\u001b[0m eta \u001b[36m0:00:00\u001b[0m\n",
      "\u001b[?25hInstalling collected packages: pyparsing, kiwisolver, fonttools, cycler, contourpy, matplotlib\n"
     ]
    },
    {
     "name": "stderr",
     "output_type": "stream",
     "text": [
      "[codecarbon INFO @ 09:48:44] Energy consumed for RAM : 0.001696 kWh. RAM Power : 20.0 W\n",
      "[codecarbon INFO @ 09:48:45] Delta energy consumed for CPU with cpu_load : 0.000032 kWh, power : 8.0 W\n",
      "[codecarbon INFO @ 09:48:45] Energy consumed for All CPU : 0.000771 kWh\n",
      "[codecarbon INFO @ 09:48:45] Energy consumed for all GPUs : 0.001866 kWh. Total GPU Power : 21.432830679333232 W\n",
      "[codecarbon INFO @ 09:48:45] 0.004333 kWh of electricity used since the beginning.\n"
     ]
    },
    {
     "name": "stdout",
     "output_type": "stream",
     "text": [
      "Successfully installed contourpy-1.3.2 cycler-0.12.1 fonttools-4.58.4 kiwisolver-1.4.8 matplotlib-3.10.3 pyparsing-3.2.3\n"
     ]
    },
    {
     "name": "stderr",
     "output_type": "stream",
     "text": [
      "[codecarbon INFO @ 09:48:47] Energy consumed for RAM : 0.002984 kWh. RAM Power : 20.0 W\n",
      "[codecarbon INFO @ 09:48:47] Delta energy consumed for CPU with cpu_load : 0.000032 kWh, power : 8.0 W\n",
      "[codecarbon INFO @ 09:48:47] Energy consumed for All CPU : 0.001285 kWh\n",
      "[codecarbon INFO @ 09:48:47] Energy consumed for all GPUs : 0.003299 kWh. Total GPU Power : 21.487521181615126 W\n",
      "[codecarbon INFO @ 09:48:47] 0.007569 kWh of electricity used since the beginning.\n",
      "[codecarbon INFO @ 09:48:59] Energy consumed for RAM : 0.001777 kWh. RAM Power : 20.0 W\n",
      "[codecarbon INFO @ 09:49:00] Delta energy consumed for CPU with cpu_load : 0.000032 kWh, power : 8.0 W\n",
      "[codecarbon INFO @ 09:49:00] Energy consumed for All CPU : 0.000804 kWh\n",
      "[codecarbon INFO @ 09:49:00] Energy consumed for all GPUs : 0.001956 kWh. Total GPU Power : 21.596536925101365 W\n",
      "[codecarbon INFO @ 09:49:00] 0.004536 kWh of electricity used since the beginning.\n",
      "[codecarbon INFO @ 09:49:02] Energy consumed for RAM : 0.003065 kWh. RAM Power : 20.0 W\n",
      "[codecarbon INFO @ 09:49:02] Delta energy consumed for CPU with cpu_load : 0.000032 kWh, power : 8.0 W\n",
      "[codecarbon INFO @ 09:49:02] Energy consumed for All CPU : 0.001318 kWh\n",
      "[codecarbon INFO @ 09:49:02] Energy consumed for all GPUs : 0.003389 kWh. Total GPU Power : 21.600735882363352 W\n",
      "[codecarbon INFO @ 09:49:02] 0.007772 kWh of electricity used since the beginning.\n",
      "[codecarbon INFO @ 09:49:14] Energy consumed for RAM : 0.001857 kWh. RAM Power : 20.0 W\n",
      "[codecarbon INFO @ 09:49:15] Delta energy consumed for CPU with cpu_load : 0.000032 kWh, power : 8.0 W\n",
      "[codecarbon INFO @ 09:49:15] Energy consumed for All CPU : 0.000836 kWh\n",
      "[codecarbon INFO @ 09:49:15] Energy consumed for all GPUs : 0.002044 kWh. Total GPU Power : 21.301963877044816 W\n",
      "[codecarbon INFO @ 09:49:15] 0.004738 kWh of electricity used since the beginning.\n",
      "[codecarbon INFO @ 09:49:17] Energy consumed for RAM : 0.003145 kWh. RAM Power : 20.0 W\n",
      "[codecarbon INFO @ 09:49:17] Delta energy consumed for CPU with cpu_load : 0.000032 kWh, power : 8.0 W\n",
      "[codecarbon INFO @ 09:49:17] Energy consumed for All CPU : 0.001350 kWh\n",
      "[codecarbon INFO @ 09:49:17] Energy consumed for all GPUs : 0.003478 kWh. Total GPU Power : 21.285816726414094 W\n",
      "[codecarbon INFO @ 09:49:17] 0.007973 kWh of electricity used since the beginning.\n",
      "[codecarbon INFO @ 09:49:29] Energy consumed for RAM : 0.001938 kWh. RAM Power : 20.0 W\n",
      "[codecarbon INFO @ 09:49:30] Delta energy consumed for CPU with cpu_load : 0.000032 kWh, power : 8.0 W\n",
      "[codecarbon INFO @ 09:49:30] Energy consumed for All CPU : 0.000868 kWh\n",
      "[codecarbon INFO @ 09:49:30] Energy consumed for all GPUs : 0.002134 kWh. Total GPU Power : 21.41749722309509 W\n",
      "[codecarbon INFO @ 09:49:30] 0.004940 kWh of electricity used since the beginning.\n",
      "[codecarbon INFO @ 09:49:30] 0.006395 g.CO2eq/s mean an estimation of 201.67293218710918 kg.CO2eq/year\n",
      "[codecarbon INFO @ 09:49:32] Energy consumed for RAM : 0.003226 kWh. RAM Power : 20.0 W\n",
      "[codecarbon INFO @ 09:49:32] Delta energy consumed for CPU with cpu_load : 0.000032 kWh, power : 8.0 W\n",
      "[codecarbon INFO @ 09:49:32] Energy consumed for All CPU : 0.001382 kWh\n",
      "[codecarbon INFO @ 09:49:32] Energy consumed for all GPUs : 0.003567 kWh. Total GPU Power : 21.416087152751988 W\n",
      "[codecarbon INFO @ 09:49:32] 0.008175 kWh of electricity used since the beginning.\n",
      "[codecarbon INFO @ 09:49:32] 0.006395 g.CO2eq/s mean an estimation of 201.66974227890944 kg.CO2eq/year\n",
      "[codecarbon INFO @ 09:49:44] Energy consumed for RAM : 0.002018 kWh. RAM Power : 20.0 W\n",
      "[codecarbon INFO @ 09:49:45] Delta energy consumed for CPU with cpu_load : 0.000032 kWh, power : 8.0 W\n",
      "[codecarbon INFO @ 09:49:45] Energy consumed for All CPU : 0.000900 kWh\n",
      "[codecarbon INFO @ 09:49:45] Energy consumed for all GPUs : 0.002223 kWh. Total GPU Power : 21.452718959289285 W\n",
      "[codecarbon INFO @ 09:49:45] 0.005142 kWh of electricity used since the beginning.\n",
      "[codecarbon INFO @ 09:49:47] Energy consumed for RAM : 0.003306 kWh. RAM Power : 20.0 W\n",
      "[codecarbon INFO @ 09:49:47] Delta energy consumed for CPU with cpu_load : 0.000032 kWh, power : 8.0 W\n",
      "[codecarbon INFO @ 09:49:47] Energy consumed for All CPU : 0.001414 kWh\n",
      "[codecarbon INFO @ 09:49:47] Energy consumed for all GPUs : 0.003656 kWh. Total GPU Power : 21.47904149680252 W\n",
      "[codecarbon INFO @ 09:49:47] 0.008377 kWh of electricity used since the beginning.\n",
      "[codecarbon INFO @ 09:49:59] Energy consumed for RAM : 0.002099 kWh. RAM Power : 20.0 W\n",
      "[codecarbon INFO @ 09:50:00] Delta energy consumed for CPU with cpu_load : 0.000032 kWh, power : 8.0 W\n",
      "[codecarbon INFO @ 09:50:00] Energy consumed for All CPU : 0.000933 kWh\n",
      "[codecarbon INFO @ 09:50:00] Energy consumed for all GPUs : 0.002313 kWh. Total GPU Power : 21.555500634251324 W\n",
      "[codecarbon INFO @ 09:50:00] 0.005344 kWh of electricity used since the beginning.\n",
      "[codecarbon INFO @ 09:50:02] Energy consumed for RAM : 0.003387 kWh. RAM Power : 20.0 W\n",
      "[codecarbon INFO @ 09:50:02] Delta energy consumed for CPU with cpu_load : 0.000032 kWh, power : 8.0 W\n",
      "[codecarbon INFO @ 09:50:02] Energy consumed for All CPU : 0.001446 kWh\n",
      "[codecarbon INFO @ 09:50:02] Energy consumed for all GPUs : 0.003746 kWh. Total GPU Power : 21.552602859102993 W\n",
      "[codecarbon INFO @ 09:50:02] 0.008580 kWh of electricity used since the beginning.\n",
      "[codecarbon INFO @ 09:50:14] Energy consumed for RAM : 0.002179 kWh. RAM Power : 20.0 W\n",
      "[codecarbon INFO @ 09:50:15] Delta energy consumed for CPU with cpu_load : 0.000032 kWh, power : 8.0 W\n",
      "[codecarbon INFO @ 09:50:15] Energy consumed for All CPU : 0.000965 kWh\n",
      "[codecarbon INFO @ 09:50:15] Energy consumed for all GPUs : 0.002403 kWh. Total GPU Power : 21.634180760057923 W\n",
      "[codecarbon INFO @ 09:50:15] 0.005547 kWh of electricity used since the beginning.\n",
      "[codecarbon INFO @ 09:50:17] Energy consumed for RAM : 0.003467 kWh. RAM Power : 20.0 W\n",
      "[codecarbon INFO @ 09:50:17] Delta energy consumed for CPU with cpu_load : 0.000032 kWh, power : 8.0 W\n",
      "[codecarbon INFO @ 09:50:17] Energy consumed for All CPU : 0.001479 kWh\n",
      "[codecarbon INFO @ 09:50:17] Energy consumed for all GPUs : 0.003836 kWh. Total GPU Power : 21.68289335251888 W\n",
      "[codecarbon INFO @ 09:50:17] 0.008783 kWh of electricity used since the beginning.\n",
      "[codecarbon INFO @ 09:50:29] Energy consumed for RAM : 0.002260 kWh. RAM Power : 20.0 W\n",
      "[codecarbon INFO @ 09:50:30] Delta energy consumed for CPU with cpu_load : 0.000032 kWh, power : 8.0 W\n",
      "[codecarbon INFO @ 09:50:30] Energy consumed for All CPU : 0.000997 kWh\n",
      "[codecarbon INFO @ 09:50:30] Energy consumed for all GPUs : 0.002494 kWh. Total GPU Power : 21.798463237018428 W\n",
      "[codecarbon INFO @ 09:50:30] 0.005751 kWh of electricity used since the beginning.\n",
      "[codecarbon INFO @ 09:50:32] Energy consumed for RAM : 0.003548 kWh. RAM Power : 20.0 W\n",
      "[codecarbon INFO @ 09:50:32] Delta energy consumed for CPU with cpu_load : 0.000032 kWh, power : 8.0 W\n",
      "[codecarbon INFO @ 09:50:32] Energy consumed for All CPU : 0.001511 kWh\n",
      "[codecarbon INFO @ 09:50:32] Energy consumed for all GPUs : 0.003927 kWh. Total GPU Power : 21.767389930174943 W\n",
      "[codecarbon INFO @ 09:50:32] 0.008986 kWh of electricity used since the beginning.\n",
      "[codecarbon INFO @ 09:50:44] Energy consumed for RAM : 0.002340 kWh. RAM Power : 20.0 W\n",
      "[codecarbon INFO @ 09:50:45] Delta energy consumed for CPU with cpu_load : 0.000032 kWh, power : 8.0 W\n",
      "[codecarbon INFO @ 09:50:45] Energy consumed for All CPU : 0.001029 kWh\n",
      "[codecarbon INFO @ 09:50:45] Energy consumed for all GPUs : 0.002584 kWh. Total GPU Power : 21.667059913181568 W\n",
      "[codecarbon INFO @ 09:50:45] 0.005954 kWh of electricity used since the beginning.\n",
      "[codecarbon INFO @ 09:50:47] Energy consumed for RAM : 0.003628 kWh. RAM Power : 20.0 W\n",
      "[codecarbon INFO @ 09:50:47] Delta energy consumed for CPU with cpu_load : 0.000032 kWh, power : 8.0 W\n",
      "[codecarbon INFO @ 09:50:47] Energy consumed for All CPU : 0.001543 kWh\n",
      "[codecarbon INFO @ 09:50:47] Energy consumed for all GPUs : 0.004017 kWh. Total GPU Power : 21.65375636731702 W\n",
      "[codecarbon INFO @ 09:50:47] 0.009189 kWh of electricity used since the beginning.\n",
      "[codecarbon INFO @ 09:50:59] Energy consumed for RAM : 0.002421 kWh. RAM Power : 20.0 W\n",
      "[codecarbon INFO @ 09:51:00] Delta energy consumed for CPU with cpu_load : 0.000032 kWh, power : 8.0 W\n",
      "[codecarbon INFO @ 09:51:00] Energy consumed for All CPU : 0.001061 kWh\n",
      "[codecarbon INFO @ 09:51:00] Energy consumed for all GPUs : 0.002674 kWh. Total GPU Power : 21.685707043527035 W\n",
      "[codecarbon INFO @ 09:51:00] 0.006157 kWh of electricity used since the beginning.\n",
      "[codecarbon INFO @ 09:51:02] Energy consumed for RAM : 0.003709 kWh. RAM Power : 20.0 W\n",
      "[codecarbon INFO @ 09:51:02] Delta energy consumed for CPU with cpu_load : 0.000032 kWh, power : 8.0 W\n",
      "[codecarbon INFO @ 09:51:02] Energy consumed for All CPU : 0.001575 kWh\n",
      "[codecarbon INFO @ 09:51:02] Energy consumed for all GPUs : 0.004108 kWh. Total GPU Power : 21.71313741515839 W\n",
      "[codecarbon INFO @ 09:51:02] 0.009392 kWh of electricity used since the beginning.\n",
      "[codecarbon INFO @ 09:51:14] Energy consumed for RAM : 0.002501 kWh. RAM Power : 20.0 W\n",
      "[codecarbon INFO @ 09:51:15] Delta energy consumed for CPU with cpu_load : 0.000032 kWh, power : 8.0 W\n",
      "[codecarbon INFO @ 09:51:15] Energy consumed for All CPU : 0.001094 kWh\n",
      "[codecarbon INFO @ 09:51:15] Energy consumed for all GPUs : 0.002764 kWh. Total GPU Power : 21.594008566107682 W\n",
      "[codecarbon INFO @ 09:51:15] 0.006359 kWh of electricity used since the beginning.\n",
      "[codecarbon INFO @ 09:51:17] Energy consumed for RAM : 0.003790 kWh. RAM Power : 20.0 W\n",
      "[codecarbon INFO @ 09:51:17] Delta energy consumed for CPU with cpu_load : 0.000032 kWh, power : 8.0 W\n",
      "[codecarbon INFO @ 09:51:17] Energy consumed for All CPU : 0.001608 kWh\n",
      "[codecarbon INFO @ 09:51:17] Energy consumed for all GPUs : 0.004198 kWh. Total GPU Power : 21.597144877336973 W\n",
      "[codecarbon INFO @ 09:51:17] 0.009595 kWh of electricity used since the beginning.\n",
      "[codecarbon INFO @ 09:51:29] Energy consumed for RAM : 0.002582 kWh. RAM Power : 20.0 W\n",
      "[codecarbon INFO @ 09:51:30] Delta energy consumed for CPU with cpu_load : 0.000032 kWh, power : 8.0 W\n",
      "[codecarbon INFO @ 09:51:30] Energy consumed for All CPU : 0.001126 kWh\n",
      "[codecarbon INFO @ 09:51:30] Energy consumed for all GPUs : 0.002855 kWh. Total GPU Power : 21.782753604088846 W\n",
      "[codecarbon INFO @ 09:51:30] 0.006563 kWh of electricity used since the beginning.\n",
      "[codecarbon INFO @ 09:51:30] 0.006430 g.CO2eq/s mean an estimation of 202.7903446769296 kg.CO2eq/year\n",
      "[codecarbon INFO @ 09:51:32] Energy consumed for RAM : 0.003870 kWh. RAM Power : 20.0 W\n",
      "[codecarbon INFO @ 09:51:32] Delta energy consumed for CPU with cpu_load : 0.000032 kWh, power : 8.0 W\n",
      "[codecarbon INFO @ 09:51:32] Energy consumed for All CPU : 0.001640 kWh\n",
      "[codecarbon INFO @ 09:51:32] Energy consumed for all GPUs : 0.004288 kWh. Total GPU Power : 21.777171809039775 W\n",
      "[codecarbon INFO @ 09:51:32] 0.009798 kWh of electricity used since the beginning.\n",
      "[codecarbon INFO @ 09:51:32] 0.006432 g.CO2eq/s mean an estimation of 202.82925120252557 kg.CO2eq/year\n",
      "[codecarbon INFO @ 09:51:44] Energy consumed for RAM : 0.002662 kWh. RAM Power : 20.0 W\n",
      "[codecarbon INFO @ 09:51:45] Delta energy consumed for CPU with cpu_load : 0.000032 kWh, power : 8.0 W\n",
      "[codecarbon INFO @ 09:51:45] Energy consumed for All CPU : 0.001158 kWh\n",
      "[codecarbon INFO @ 09:51:45] Energy consumed for all GPUs : 0.002946 kWh. Total GPU Power : 21.820918366922317 W\n",
      "[codecarbon INFO @ 09:51:45] 0.006766 kWh of electricity used since the beginning.\n",
      "[codecarbon INFO @ 09:51:47] Energy consumed for RAM : 0.003951 kWh. RAM Power : 20.0 W\n",
      "[codecarbon INFO @ 09:51:47] Delta energy consumed for CPU with cpu_load : 0.000032 kWh, power : 8.0 W\n",
      "[codecarbon INFO @ 09:51:47] Energy consumed for All CPU : 0.001672 kWh\n",
      "[codecarbon INFO @ 09:51:47] Energy consumed for all GPUs : 0.004379 kWh. Total GPU Power : 21.805373295756336 W\n",
      "[codecarbon INFO @ 09:51:47] 0.010002 kWh of electricity used since the beginning.\n",
      "[codecarbon INFO @ 09:51:59] Energy consumed for RAM : 0.002743 kWh. RAM Power : 20.0 W\n",
      "[codecarbon INFO @ 09:52:00] Delta energy consumed for CPU with cpu_load : 0.000032 kWh, power : 8.0 W\n",
      "[codecarbon INFO @ 09:52:00] Energy consumed for All CPU : 0.001190 kWh\n",
      "[codecarbon INFO @ 09:52:00] Energy consumed for all GPUs : 0.003036 kWh. Total GPU Power : 21.612971701882234 W\n",
      "[codecarbon INFO @ 09:52:00] 0.006969 kWh of electricity used since the beginning.\n",
      "[codecarbon INFO @ 09:52:02] Energy consumed for RAM : 0.004031 kWh. RAM Power : 20.0 W\n",
      "[codecarbon INFO @ 09:52:02] Delta energy consumed for CPU with cpu_load : 0.000032 kWh, power : 8.0 W\n",
      "[codecarbon INFO @ 09:52:02] Energy consumed for All CPU : 0.001704 kWh\n",
      "[codecarbon INFO @ 09:52:02] Energy consumed for all GPUs : 0.004469 kWh. Total GPU Power : 21.63275829801386 W\n",
      "[codecarbon INFO @ 09:52:02] 0.010205 kWh of electricity used since the beginning.\n",
      "[codecarbon INFO @ 09:52:14] Energy consumed for RAM : 0.002823 kWh. RAM Power : 20.0 W\n",
      "[codecarbon INFO @ 09:52:15] Delta energy consumed for CPU with cpu_load : 0.000032 kWh, power : 8.0 W\n",
      "[codecarbon INFO @ 09:52:15] Energy consumed for All CPU : 0.001222 kWh\n",
      "[codecarbon INFO @ 09:52:15] Energy consumed for all GPUs : 0.003126 kWh. Total GPU Power : 21.600275913887312 W\n",
      "[codecarbon INFO @ 09:52:15] 0.007172 kWh of electricity used since the beginning.\n",
      "[codecarbon INFO @ 09:52:17] Energy consumed for RAM : 0.004112 kWh. RAM Power : 20.0 W\n",
      "[codecarbon INFO @ 09:52:17] Delta energy consumed for CPU with cpu_load : 0.000032 kWh, power : 8.0 W\n",
      "[codecarbon INFO @ 09:52:17] Energy consumed for All CPU : 0.001736 kWh\n",
      "[codecarbon INFO @ 09:52:17] Energy consumed for all GPUs : 0.004559 kWh. Total GPU Power : 21.60831545113797 W\n",
      "[codecarbon INFO @ 09:52:17] 0.010407 kWh of electricity used since the beginning.\n",
      "[codecarbon INFO @ 09:52:29] Energy consumed for RAM : 0.002904 kWh. RAM Power : 20.0 W\n",
      "[codecarbon INFO @ 09:52:30] Delta energy consumed for CPU with cpu_load : 0.000032 kWh, power : 8.0 W\n",
      "[codecarbon INFO @ 09:52:30] Energy consumed for All CPU : 0.001255 kWh\n",
      "[codecarbon INFO @ 09:52:30] Energy consumed for all GPUs : 0.003216 kWh. Total GPU Power : 21.67528962214889 W\n",
      "[codecarbon INFO @ 09:52:30] 0.007375 kWh of electricity used since the beginning.\n",
      "[codecarbon INFO @ 09:52:32] Energy consumed for RAM : 0.004192 kWh. RAM Power : 20.0 W\n",
      "[codecarbon INFO @ 09:52:32] Delta energy consumed for CPU with cpu_load : 0.000032 kWh, power : 8.0 W\n",
      "[codecarbon INFO @ 09:52:32] Energy consumed for All CPU : 0.001769 kWh\n",
      "[codecarbon INFO @ 09:52:32] Energy consumed for all GPUs : 0.004649 kWh. Total GPU Power : 21.63168122193539 W\n",
      "[codecarbon INFO @ 09:52:32] 0.010610 kWh of electricity used since the beginning.\n",
      "[codecarbon INFO @ 09:52:44] Energy consumed for RAM : 0.002984 kWh. RAM Power : 20.0 W\n",
      "[codecarbon INFO @ 09:52:45] Delta energy consumed for CPU with cpu_load : 0.000032 kWh, power : 8.0 W\n",
      "[codecarbon INFO @ 09:52:45] Energy consumed for All CPU : 0.001287 kWh\n",
      "[codecarbon INFO @ 09:52:45] Energy consumed for all GPUs : 0.003306 kWh. Total GPU Power : 21.616636334187753 W\n",
      "[codecarbon INFO @ 09:52:45] 0.007578 kWh of electricity used since the beginning.\n",
      "[codecarbon INFO @ 09:52:47] Energy consumed for RAM : 0.004273 kWh. RAM Power : 20.0 W\n",
      "[codecarbon INFO @ 09:52:47] Delta energy consumed for CPU with cpu_load : 0.000032 kWh, power : 8.0 W\n",
      "[codecarbon INFO @ 09:52:47] Energy consumed for All CPU : 0.001801 kWh\n",
      "[codecarbon INFO @ 09:52:47] Energy consumed for all GPUs : 0.004740 kWh. Total GPU Power : 21.634356173979807 W\n",
      "[codecarbon INFO @ 09:52:47] 0.010813 kWh of electricity used since the beginning.\n",
      "[codecarbon INFO @ 09:52:59] Energy consumed for RAM : 0.003065 kWh. RAM Power : 20.0 W\n",
      "[codecarbon INFO @ 09:53:00] Delta energy consumed for CPU with cpu_load : 0.000032 kWh, power : 8.0 W\n",
      "[codecarbon INFO @ 09:53:00] Energy consumed for All CPU : 0.001319 kWh\n",
      "[codecarbon INFO @ 09:53:00] Energy consumed for all GPUs : 0.003396 kWh. Total GPU Power : 21.5606599145201 W\n",
      "[codecarbon INFO @ 09:53:00] 0.007780 kWh of electricity used since the beginning.\n",
      "[codecarbon INFO @ 09:53:02] Energy consumed for RAM : 0.004353 kWh. RAM Power : 20.0 W\n",
      "[codecarbon INFO @ 09:53:02] Delta energy consumed for CPU with cpu_load : 0.000032 kWh, power : 8.0 W\n",
      "[codecarbon INFO @ 09:53:02] Energy consumed for All CPU : 0.001833 kWh\n",
      "[codecarbon INFO @ 09:53:02] Energy consumed for all GPUs : 0.004829 kWh. Total GPU Power : 21.510001154302213 W\n",
      "[codecarbon INFO @ 09:53:02] 0.011015 kWh of electricity used since the beginning.\n",
      "[codecarbon INFO @ 09:53:14] Energy consumed for RAM : 0.003145 kWh. RAM Power : 20.0 W\n",
      "[codecarbon INFO @ 09:53:15] Delta energy consumed for CPU with cpu_load : 0.000032 kWh, power : 8.0 W\n",
      "[codecarbon INFO @ 09:53:15] Energy consumed for All CPU : 0.001351 kWh\n",
      "[codecarbon INFO @ 09:53:15] Energy consumed for all GPUs : 0.003485 kWh. Total GPU Power : 21.408496741394508 W\n",
      "[codecarbon INFO @ 09:53:15] 0.007982 kWh of electricity used since the beginning.\n",
      "[codecarbon INFO @ 09:53:17] Energy consumed for RAM : 0.004434 kWh. RAM Power : 20.0 W\n",
      "[codecarbon INFO @ 09:53:17] Delta energy consumed for CPU with cpu_load : 0.000032 kWh, power : 8.0 W\n",
      "[codecarbon INFO @ 09:53:17] Energy consumed for All CPU : 0.001865 kWh\n",
      "[codecarbon INFO @ 09:53:17] Energy consumed for all GPUs : 0.004919 kWh. Total GPU Power : 21.438214864345426 W\n",
      "[codecarbon INFO @ 09:53:17] 0.011217 kWh of electricity used since the beginning.\n",
      "[codecarbon INFO @ 09:53:29] Energy consumed for RAM : 0.003226 kWh. RAM Power : 20.0 W\n",
      "[codecarbon INFO @ 09:53:30] Delta energy consumed for CPU with cpu_load : 0.000032 kWh, power : 8.0 W\n",
      "[codecarbon INFO @ 09:53:30] Energy consumed for All CPU : 0.001383 kWh\n",
      "[codecarbon INFO @ 09:53:30] Energy consumed for all GPUs : 0.003575 kWh. Total GPU Power : 21.533230457069838 W\n",
      "[codecarbon INFO @ 09:53:30] 0.008184 kWh of electricity used since the beginning.\n",
      "[codecarbon INFO @ 09:53:30] 0.006425 g.CO2eq/s mean an estimation of 202.62029846418932 kg.CO2eq/year\n",
      "[codecarbon INFO @ 09:53:32] Energy consumed for RAM : 0.004514 kWh. RAM Power : 20.0 W\n",
      "[codecarbon INFO @ 09:53:32] Delta energy consumed for CPU with cpu_load : 0.000032 kWh, power : 8.0 W\n",
      "[codecarbon INFO @ 09:53:32] Energy consumed for All CPU : 0.001897 kWh\n",
      "[codecarbon INFO @ 09:53:32] Energy consumed for all GPUs : 0.005008 kWh. Total GPU Power : 21.54862667312368 W\n",
      "[codecarbon INFO @ 09:53:32] 0.011420 kWh of electricity used since the beginning.\n",
      "[codecarbon INFO @ 09:53:32] 0.006425 g.CO2eq/s mean an estimation of 202.60874109673958 kg.CO2eq/year\n",
      "[codecarbon INFO @ 09:53:44] Energy consumed for RAM : 0.003306 kWh. RAM Power : 20.0 W\n",
      "[codecarbon INFO @ 09:53:45] Delta energy consumed for CPU with cpu_load : 0.000032 kWh, power : 8.0 W\n",
      "[codecarbon INFO @ 09:53:45] Energy consumed for All CPU : 0.001416 kWh\n",
      "[codecarbon INFO @ 09:53:45] Energy consumed for all GPUs : 0.003665 kWh. Total GPU Power : 21.66565830196132 W\n",
      "[codecarbon INFO @ 09:53:45] 0.008387 kWh of electricity used since the beginning.\n",
      "[codecarbon INFO @ 09:53:47] Energy consumed for RAM : 0.004595 kWh. RAM Power : 20.0 W\n",
      "[codecarbon INFO @ 09:53:47] Delta energy consumed for CPU with cpu_load : 0.000032 kWh, power : 8.0 W\n",
      "[codecarbon INFO @ 09:53:47] Energy consumed for All CPU : 0.001930 kWh\n",
      "[codecarbon INFO @ 09:53:47] Energy consumed for all GPUs : 0.005098 kWh. Total GPU Power : 21.639075046704743 W\n",
      "[codecarbon INFO @ 09:53:47] 0.011623 kWh of electricity used since the beginning.\n",
      "[codecarbon INFO @ 09:53:59] Energy consumed for RAM : 0.003387 kWh. RAM Power : 20.0 W\n",
      "[codecarbon INFO @ 09:54:00] Delta energy consumed for CPU with cpu_load : 0.000032 kWh, power : 8.0 W\n",
      "[codecarbon INFO @ 09:54:00] Energy consumed for All CPU : 0.001448 kWh\n",
      "[codecarbon INFO @ 09:54:00] Energy consumed for all GPUs : 0.003755 kWh. Total GPU Power : 21.598543784889184 W\n",
      "[codecarbon INFO @ 09:54:00] 0.008590 kWh of electricity used since the beginning.\n",
      "[codecarbon INFO @ 09:54:02] Energy consumed for RAM : 0.004675 kWh. RAM Power : 20.0 W\n",
      "[codecarbon INFO @ 09:54:02] Delta energy consumed for CPU with cpu_load : 0.000032 kWh, power : 8.0 W\n",
      "[codecarbon INFO @ 09:54:02] Energy consumed for All CPU : 0.001962 kWh\n",
      "[codecarbon INFO @ 09:54:02] Energy consumed for all GPUs : 0.005188 kWh. Total GPU Power : 21.606774568332103 W\n",
      "[codecarbon INFO @ 09:54:02] 0.011825 kWh of electricity used since the beginning.\n",
      "[codecarbon INFO @ 09:54:14] Energy consumed for RAM : 0.003467 kWh. RAM Power : 20.0 W\n",
      "[codecarbon INFO @ 09:54:15] Delta energy consumed for CPU with cpu_load : 0.000032 kWh, power : 8.0 W\n",
      "[codecarbon INFO @ 09:54:15] Energy consumed for All CPU : 0.001480 kWh\n",
      "[codecarbon INFO @ 09:54:15] Energy consumed for all GPUs : 0.003844 kWh. Total GPU Power : 21.361894360440992 W\n",
      "[codecarbon INFO @ 09:54:15] 0.008792 kWh of electricity used since the beginning.\n",
      "[codecarbon INFO @ 09:54:17] Energy consumed for RAM : 0.004756 kWh. RAM Power : 20.0 W\n",
      "[codecarbon INFO @ 09:54:17] Delta energy consumed for CPU with cpu_load : 0.000032 kWh, power : 8.0 W\n",
      "[codecarbon INFO @ 09:54:17] Energy consumed for All CPU : 0.001994 kWh\n",
      "[codecarbon INFO @ 09:54:17] Energy consumed for all GPUs : 0.005277 kWh. Total GPU Power : 21.342631683519873 W\n",
      "[codecarbon INFO @ 09:54:17] 0.012027 kWh of electricity used since the beginning.\n",
      "[codecarbon INFO @ 09:54:29] Energy consumed for RAM : 0.003548 kWh. RAM Power : 20.0 W\n",
      "[codecarbon INFO @ 09:54:30] Delta energy consumed for CPU with cpu_load : 0.000032 kWh, power : 8.0 W\n",
      "[codecarbon INFO @ 09:54:30] Energy consumed for All CPU : 0.001512 kWh\n",
      "[codecarbon INFO @ 09:54:30] Energy consumed for all GPUs : 0.003933 kWh. Total GPU Power : 21.40393883975361 W\n",
      "[codecarbon INFO @ 09:54:30] 0.008994 kWh of electricity used since the beginning.\n",
      "[codecarbon INFO @ 09:54:32] Energy consumed for RAM : 0.004836 kWh. RAM Power : 20.0 W\n",
      "[codecarbon INFO @ 09:54:32] Delta energy consumed for CPU with cpu_load : 0.000032 kWh, power : 8.0 W\n",
      "[codecarbon INFO @ 09:54:32] Energy consumed for All CPU : 0.002026 kWh\n",
      "[codecarbon INFO @ 09:54:32] Energy consumed for all GPUs : 0.005367 kWh. Total GPU Power : 21.40269287476023 W\n",
      "[codecarbon INFO @ 09:54:32] 0.012229 kWh of electricity used since the beginning.\n",
      "[codecarbon INFO @ 09:54:44] Energy consumed for RAM : 0.003628 kWh. RAM Power : 20.0 W\n",
      "[codecarbon INFO @ 09:54:45] Delta energy consumed for CPU with cpu_load : 0.000032 kWh, power : 8.0 W\n",
      "[codecarbon INFO @ 09:54:45] Energy consumed for All CPU : 0.001544 kWh\n",
      "[codecarbon INFO @ 09:54:45] Energy consumed for all GPUs : 0.004022 kWh. Total GPU Power : 21.377568362860348 W\n",
      "[codecarbon INFO @ 09:54:45] 0.009195 kWh of electricity used since the beginning.\n",
      "[codecarbon INFO @ 09:54:47] Energy consumed for RAM : 0.004917 kWh. RAM Power : 20.0 W\n",
      "[codecarbon INFO @ 09:54:47] Delta energy consumed for CPU with cpu_load : 0.000032 kWh, power : 8.0 W\n",
      "[codecarbon INFO @ 09:54:47] Energy consumed for All CPU : 0.002058 kWh\n",
      "[codecarbon INFO @ 09:54:47] Energy consumed for all GPUs : 0.005456 kWh. Total GPU Power : 21.378974891352264 W\n",
      "[codecarbon INFO @ 09:54:47] 0.012431 kWh of electricity used since the beginning.\n"
     ]
    }
   ],
   "source": [
    "!pip install pandas matplotlib"
   ]
  },
  {
   "cell_type": "code",
   "execution_count": null,
   "id": "700b4d7e-3026-42a5-992a-dae6f2ee4b98",
   "metadata": {},
   "outputs": [
    {
     "name": "stderr",
     "output_type": "stream",
     "text": [
      "llama_context: n_ctx_per_seq (2048) < n_ctx_train (32768) -- the full capacity of the model will not be utilized\n"
     ]
    },
    {
     "name": "stdout",
     "output_type": "stream",
     "text": [
      "\n",
      "🧠 [1/150] Running inference for prompt #1...\n",
      "⏱ Time: 18.67 sec | ⚡ Energy: 0.379 Wh | 🌍 CO₂: 0.18 g\n",
      "🔄 Estimated time remaining: 46 min 21 sec\n",
      "----------------------------------------------------------\n",
      "\n",
      "🧠 [2/150] Running inference for prompt #2...\n"
     ]
    }
   ],
   "source": [
    "import csv\n",
    "import time\n",
    "from codecarbon import EmissionsTracker\n",
    "from llama_cpp import Llama\n",
    "import os\n",
    "\n",
    "# Load prompts\n",
    "with open(\"mnt/Benchmark_Prompts.csv\", \"r\") as f:\n",
    "    reader = csv.DictReader(f)\n",
    "    prompts = [row[\"prompt\"] for row in reader]\n",
    "\n",
    "# Initialize model\n",
    "llm = Llama(\n",
    "    model_path=\"/root/models/mistral/mistral-7b-instruct-v0.1.Q4_K_M.gguf\",\n",
    "    n_gpu_layers=35,\n",
    "    n_ctx=2048,\n",
    "    verbose=False\n",
    ")\n",
    "\n",
    "# Prepare results file (create if not exists)\n",
    "results_path = \"mnt/benchmark_results.csv\"\n",
    "write_header = not os.path.exists(results_path)\n",
    "\n",
    "with open(results_path, \"a\", newline='') as f:\n",
    "    fieldnames = [\"index\", \"prompt\", \"output\", \"inference_time_sec\", \"energy_Wh\", \"co2_g\"]\n",
    "    writer = csv.DictWriter(f, fieldnames=fieldnames)\n",
    "    if write_header:\n",
    "        writer.writeheader()\n",
    "\n",
    "    total = len(prompts)\n",
    "    for i, prompt in enumerate(prompts[:150]):\n",
    "        print(f\"\\n🧠 [{i+1}/{total}] Running inference for prompt #{i+1}...\")\n",
    "        tracker = EmissionsTracker(project_name=\"CarbonSwipe-Benchmark\", output_dir=\".\", log_level=\"error\")\n",
    "        tracker.start()\n",
    "\n",
    "        start = time.time()\n",
    "        output = llm(prompt, max_tokens=150, stop=[\"</s>\"])\n",
    "        end = time.time()\n",
    "\n",
    "        tracker.stop()\n",
    "\n",
    "        # Read last row of emissions\n",
    "        with open(\"emissions.csv\", \"r\") as efile:\n",
    "            emissions_reader = csv.DictReader(efile)\n",
    "            last = list(emissions_reader)[-1]\n",
    "            energy_kwh = float(last[\"energy_consumed\"])\n",
    "            co2_kg = float(last[\"emissions\"])\n",
    "\n",
    "        inf_time = round(end - start, 2)\n",
    "        energy_Wh = round(energy_kwh * 1000, 3)\n",
    "        co2_g = round(co2_kg * 1000, 3)\n",
    "\n",
    "        # Write to CSV\n",
    "        writer.writerow({\n",
    "            \"index\": i + 1,\n",
    "            \"prompt\": prompt,\n",
    "            \"output\": output[\"choices\"][0][\"text\"].strip(),\n",
    "            \"inference_time_sec\": inf_time,\n",
    "            \"energy_Wh\": energy_Wh,\n",
    "            \"co2_g\": co2_g\n",
    "        })\n",
    "\n",
    "        # Show live progress\n",
    "        print(f\"⏱ Time: {inf_time:.2f} sec | ⚡ Energy: {energy_Wh} Wh | 🌍 CO₂: {co2_g} g\")\n",
    "        remaining = total - (i + 1)\n",
    "        est_left = int((end - start) * remaining)\n",
    "        print(f\"🔄 Estimated time remaining: {est_left // 60} min {est_left % 60} sec\")\n",
    "        print(\"----------------------------------------------------------\")"
   ]
  },
  {
   "cell_type": "code",
   "execution_count": null,
   "id": "b2653c43-d49d-47ec-9a9d-51cd5aacfd36",
   "metadata": {},
   "outputs": [],
   "source": []
  }
 ],
 "metadata": {
  "kernelspec": {
   "display_name": "Python3 (main venv)",
   "language": "python",
   "name": "main"
  },
  "language_info": {
   "codemirror_mode": {
    "name": "ipython",
    "version": 3
   },
   "file_extension": ".py",
   "mimetype": "text/x-python",
   "name": "python",
   "nbconvert_exporter": "python",
   "pygments_lexer": "ipython3",
   "version": "3.12.3"
  }
 },
 "nbformat": 4,
 "nbformat_minor": 5
}
